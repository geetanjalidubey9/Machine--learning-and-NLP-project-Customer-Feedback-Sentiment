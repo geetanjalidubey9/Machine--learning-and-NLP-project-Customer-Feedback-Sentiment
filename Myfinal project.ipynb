{
 "cells": [
  {
   "cell_type": "markdown",
   "id": "d2dae213",
   "metadata": {},
   "source": [
    "# Import library"
   ]
  },
  {
   "cell_type": "code",
   "execution_count": 1,
   "id": "fa6e6faa",
   "metadata": {},
   "outputs": [],
   "source": [
    "import numpy as np\n",
    "import pandas as pd"
   ]
  },
  {
   "cell_type": "markdown",
   "id": "61d43004",
   "metadata": {},
   "source": [
    "# DATA PREPROCESSIN AND CLEANING STEPS"
   ]
  },
  {
   "cell_type": "code",
   "execution_count": 2,
   "id": "8d476baa",
   "metadata": {},
   "outputs": [],
   "source": [
    "df=pd.read_csv(\"C:\\\\Users\\\\geeta\\\\Downloads\\\\myprojectdata\\\\mydata.csv\")      "
   ]
  },
  {
   "cell_type": "code",
   "execution_count": 3,
   "id": "a1abc206",
   "metadata": {},
   "outputs": [
    {
     "data": {
      "text/html": [
       "<div>\n",
       "<style scoped>\n",
       "    .dataframe tbody tr th:only-of-type {\n",
       "        vertical-align: middle;\n",
       "    }\n",
       "\n",
       "    .dataframe tbody tr th {\n",
       "        vertical-align: top;\n",
       "    }\n",
       "\n",
       "    .dataframe thead th {\n",
       "        text-align: right;\n",
       "    }\n",
       "</style>\n",
       "<table border=\"1\" class=\"dataframe\">\n",
       "  <thead>\n",
       "    <tr style=\"text-align: right;\">\n",
       "      <th></th>\n",
       "      <th>id</th>\n",
       "      <th>asins</th>\n",
       "      <th>brand</th>\n",
       "      <th>categories</th>\n",
       "      <th>colors</th>\n",
       "      <th>dateAdded</th>\n",
       "      <th>dateUpdated</th>\n",
       "      <th>dimension</th>\n",
       "      <th>ean</th>\n",
       "      <th>keys</th>\n",
       "      <th>...</th>\n",
       "      <th>reviews.rating</th>\n",
       "      <th>reviews.sourceURLs</th>\n",
       "      <th>reviews.text</th>\n",
       "      <th>reviews.title</th>\n",
       "      <th>reviews.userCity</th>\n",
       "      <th>reviews.userProvince</th>\n",
       "      <th>reviews.username</th>\n",
       "      <th>sizes</th>\n",
       "      <th>upc</th>\n",
       "      <th>weight</th>\n",
       "    </tr>\n",
       "  </thead>\n",
       "  <tbody>\n",
       "    <tr>\n",
       "      <th>0</th>\n",
       "      <td>AVpe7AsMilAPnD_xQ78G</td>\n",
       "      <td>B00QJDU3KY</td>\n",
       "      <td>Amazon</td>\n",
       "      <td>Amazon Devices,mazon.co.uk</td>\n",
       "      <td>NaN</td>\n",
       "      <td>2016-03-08T20:21:53Z</td>\n",
       "      <td>2017-07-18T23:52:58Z</td>\n",
       "      <td>169 mm x 117 mm x 9.1 mm</td>\n",
       "      <td>NaN</td>\n",
       "      <td>kindlepaperwhite/b00qjdu3ky</td>\n",
       "      <td>...</td>\n",
       "      <td>5.0</td>\n",
       "      <td>https://www.amazon.com/Kindle-Paperwhite-High-...</td>\n",
       "      <td>I initially had trouble deciding between the p...</td>\n",
       "      <td>Paperwhite voyage, no regrets!</td>\n",
       "      <td>NaN</td>\n",
       "      <td>NaN</td>\n",
       "      <td>Cristina M</td>\n",
       "      <td>NaN</td>\n",
       "      <td>NaN</td>\n",
       "      <td>205 grams</td>\n",
       "    </tr>\n",
       "    <tr>\n",
       "      <th>1</th>\n",
       "      <td>AVpe7AsMilAPnD_xQ78G</td>\n",
       "      <td>B00QJDU3KY</td>\n",
       "      <td>Amazon</td>\n",
       "      <td>Amazon Devices,mazon.co.uk</td>\n",
       "      <td>NaN</td>\n",
       "      <td>2016-03-08T20:21:53Z</td>\n",
       "      <td>2017-07-18T23:52:58Z</td>\n",
       "      <td>169 mm x 117 mm x 9.1 mm</td>\n",
       "      <td>NaN</td>\n",
       "      <td>kindlepaperwhite/b00qjdu3ky</td>\n",
       "      <td>...</td>\n",
       "      <td>5.0</td>\n",
       "      <td>https://www.amazon.com/Kindle-Paperwhite-High-...</td>\n",
       "      <td>Allow me to preface this with a little history...</td>\n",
       "      <td>One Simply Could Not Ask For More</td>\n",
       "      <td>NaN</td>\n",
       "      <td>NaN</td>\n",
       "      <td>Ricky</td>\n",
       "      <td>NaN</td>\n",
       "      <td>NaN</td>\n",
       "      <td>205 grams</td>\n",
       "    </tr>\n",
       "    <tr>\n",
       "      <th>2</th>\n",
       "      <td>AVpe7AsMilAPnD_xQ78G</td>\n",
       "      <td>B00QJDU3KY</td>\n",
       "      <td>Amazon</td>\n",
       "      <td>Amazon Devices,mazon.co.uk</td>\n",
       "      <td>NaN</td>\n",
       "      <td>2016-03-08T20:21:53Z</td>\n",
       "      <td>2017-07-18T23:52:58Z</td>\n",
       "      <td>169 mm x 117 mm x 9.1 mm</td>\n",
       "      <td>NaN</td>\n",
       "      <td>kindlepaperwhite/b00qjdu3ky</td>\n",
       "      <td>...</td>\n",
       "      <td>4.0</td>\n",
       "      <td>https://www.amazon.com/Kindle-Paperwhite-High-...</td>\n",
       "      <td>I am enjoying it so far. Great for reading. Ha...</td>\n",
       "      <td>Great for those that just want an e-reader</td>\n",
       "      <td>NaN</td>\n",
       "      <td>NaN</td>\n",
       "      <td>Tedd Gardiner</td>\n",
       "      <td>NaN</td>\n",
       "      <td>NaN</td>\n",
       "      <td>205 grams</td>\n",
       "    </tr>\n",
       "    <tr>\n",
       "      <th>3</th>\n",
       "      <td>AVpe7AsMilAPnD_xQ78G</td>\n",
       "      <td>B00QJDU3KY</td>\n",
       "      <td>Amazon</td>\n",
       "      <td>Amazon Devices,mazon.co.uk</td>\n",
       "      <td>NaN</td>\n",
       "      <td>2016-03-08T20:21:53Z</td>\n",
       "      <td>2017-07-18T23:52:58Z</td>\n",
       "      <td>169 mm x 117 mm x 9.1 mm</td>\n",
       "      <td>NaN</td>\n",
       "      <td>kindlepaperwhite/b00qjdu3ky</td>\n",
       "      <td>...</td>\n",
       "      <td>5.0</td>\n",
       "      <td>https://www.amazon.com/Kindle-Paperwhite-High-...</td>\n",
       "      <td>I bought one of the first Paperwhites and have...</td>\n",
       "      <td>Love / Hate relationship</td>\n",
       "      <td>NaN</td>\n",
       "      <td>NaN</td>\n",
       "      <td>Dougal</td>\n",
       "      <td>NaN</td>\n",
       "      <td>NaN</td>\n",
       "      <td>205 grams</td>\n",
       "    </tr>\n",
       "    <tr>\n",
       "      <th>4</th>\n",
       "      <td>AVpe7AsMilAPnD_xQ78G</td>\n",
       "      <td>B00QJDU3KY</td>\n",
       "      <td>Amazon</td>\n",
       "      <td>Amazon Devices,mazon.co.uk</td>\n",
       "      <td>NaN</td>\n",
       "      <td>2016-03-08T20:21:53Z</td>\n",
       "      <td>2017-07-18T23:52:58Z</td>\n",
       "      <td>169 mm x 117 mm x 9.1 mm</td>\n",
       "      <td>NaN</td>\n",
       "      <td>kindlepaperwhite/b00qjdu3ky</td>\n",
       "      <td>...</td>\n",
       "      <td>5.0</td>\n",
       "      <td>https://www.amazon.com/Kindle-Paperwhite-High-...</td>\n",
       "      <td>I have to say upfront - I don't like coroporat...</td>\n",
       "      <td>I LOVE IT</td>\n",
       "      <td>NaN</td>\n",
       "      <td>NaN</td>\n",
       "      <td>Miljan David Tanic</td>\n",
       "      <td>NaN</td>\n",
       "      <td>NaN</td>\n",
       "      <td>205 grams</td>\n",
       "    </tr>\n",
       "  </tbody>\n",
       "</table>\n",
       "<p>5 rows × 27 columns</p>\n",
       "</div>"
      ],
      "text/plain": [
       "                     id       asins   brand                  categories  \\\n",
       "0  AVpe7AsMilAPnD_xQ78G  B00QJDU3KY  Amazon  Amazon Devices,mazon.co.uk   \n",
       "1  AVpe7AsMilAPnD_xQ78G  B00QJDU3KY  Amazon  Amazon Devices,mazon.co.uk   \n",
       "2  AVpe7AsMilAPnD_xQ78G  B00QJDU3KY  Amazon  Amazon Devices,mazon.co.uk   \n",
       "3  AVpe7AsMilAPnD_xQ78G  B00QJDU3KY  Amazon  Amazon Devices,mazon.co.uk   \n",
       "4  AVpe7AsMilAPnD_xQ78G  B00QJDU3KY  Amazon  Amazon Devices,mazon.co.uk   \n",
       "\n",
       "  colors             dateAdded           dateUpdated  \\\n",
       "0    NaN  2016-03-08T20:21:53Z  2017-07-18T23:52:58Z   \n",
       "1    NaN  2016-03-08T20:21:53Z  2017-07-18T23:52:58Z   \n",
       "2    NaN  2016-03-08T20:21:53Z  2017-07-18T23:52:58Z   \n",
       "3    NaN  2016-03-08T20:21:53Z  2017-07-18T23:52:58Z   \n",
       "4    NaN  2016-03-08T20:21:53Z  2017-07-18T23:52:58Z   \n",
       "\n",
       "                  dimension  ean                         keys  ...  \\\n",
       "0  169 mm x 117 mm x 9.1 mm  NaN  kindlepaperwhite/b00qjdu3ky  ...   \n",
       "1  169 mm x 117 mm x 9.1 mm  NaN  kindlepaperwhite/b00qjdu3ky  ...   \n",
       "2  169 mm x 117 mm x 9.1 mm  NaN  kindlepaperwhite/b00qjdu3ky  ...   \n",
       "3  169 mm x 117 mm x 9.1 mm  NaN  kindlepaperwhite/b00qjdu3ky  ...   \n",
       "4  169 mm x 117 mm x 9.1 mm  NaN  kindlepaperwhite/b00qjdu3ky  ...   \n",
       "\n",
       "  reviews.rating                                 reviews.sourceURLs  \\\n",
       "0            5.0  https://www.amazon.com/Kindle-Paperwhite-High-...   \n",
       "1            5.0  https://www.amazon.com/Kindle-Paperwhite-High-...   \n",
       "2            4.0  https://www.amazon.com/Kindle-Paperwhite-High-...   \n",
       "3            5.0  https://www.amazon.com/Kindle-Paperwhite-High-...   \n",
       "4            5.0  https://www.amazon.com/Kindle-Paperwhite-High-...   \n",
       "\n",
       "                                        reviews.text  \\\n",
       "0  I initially had trouble deciding between the p...   \n",
       "1  Allow me to preface this with a little history...   \n",
       "2  I am enjoying it so far. Great for reading. Ha...   \n",
       "3  I bought one of the first Paperwhites and have...   \n",
       "4  I have to say upfront - I don't like coroporat...   \n",
       "\n",
       "                                reviews.title reviews.userCity  \\\n",
       "0              Paperwhite voyage, no regrets!              NaN   \n",
       "1           One Simply Could Not Ask For More              NaN   \n",
       "2  Great for those that just want an e-reader              NaN   \n",
       "3                    Love / Hate relationship              NaN   \n",
       "4                                   I LOVE IT              NaN   \n",
       "\n",
       "  reviews.userProvince    reviews.username  sizes upc     weight  \n",
       "0                  NaN          Cristina M    NaN NaN  205 grams  \n",
       "1                  NaN               Ricky    NaN NaN  205 grams  \n",
       "2                  NaN       Tedd Gardiner    NaN NaN  205 grams  \n",
       "3                  NaN              Dougal    NaN NaN  205 grams  \n",
       "4                  NaN  Miljan David Tanic    NaN NaN  205 grams  \n",
       "\n",
       "[5 rows x 27 columns]"
      ]
     },
     "execution_count": 3,
     "metadata": {},
     "output_type": "execute_result"
    }
   ],
   "source": [
    "df.head()"
   ]
  },
  {
   "cell_type": "code",
   "execution_count": 4,
   "id": "c2410d8f",
   "metadata": {},
   "outputs": [
    {
     "name": "stdout",
     "output_type": "stream",
     "text": [
      "<class 'pandas.core.frame.DataFrame'>\n",
      "RangeIndex: 1597 entries, 0 to 1596\n",
      "Data columns (total 27 columns):\n",
      " #   Column                Non-Null Count  Dtype  \n",
      "---  ------                --------------  -----  \n",
      " 0   id                    1597 non-null   object \n",
      " 1   asins                 1597 non-null   object \n",
      " 2   brand                 1597 non-null   object \n",
      " 3   categories            1597 non-null   object \n",
      " 4   colors                774 non-null    object \n",
      " 5   dateAdded             1597 non-null   object \n",
      " 6   dateUpdated           1597 non-null   object \n",
      " 7   dimension             565 non-null    object \n",
      " 8   ean                   898 non-null    float64\n",
      " 9   keys                  1597 non-null   object \n",
      " 10  manufacturer          965 non-null    object \n",
      " 11  manufacturerNumber    902 non-null    object \n",
      " 12  name                  1597 non-null   object \n",
      " 13  prices                1597 non-null   object \n",
      " 14  reviews.date          1217 non-null   object \n",
      " 15  reviews.doRecommend   539 non-null    object \n",
      " 16  reviews.numHelpful    900 non-null    float64\n",
      " 17  reviews.rating        1177 non-null   float64\n",
      " 18  reviews.sourceURLs    1597 non-null   object \n",
      " 19  reviews.text          1597 non-null   object \n",
      " 20  reviews.title         1580 non-null   object \n",
      " 21  reviews.userCity      0 non-null      float64\n",
      " 22  reviews.userProvince  0 non-null      float64\n",
      " 23  reviews.username      1580 non-null   object \n",
      " 24  sizes                 0 non-null      float64\n",
      " 25  upc                   898 non-null    float64\n",
      " 26  weight                686 non-null    object \n",
      "dtypes: float64(7), object(20)\n",
      "memory usage: 337.0+ KB\n"
     ]
    }
   ],
   "source": [
    "df.info()"
   ]
  },
  {
   "cell_type": "code",
   "execution_count": 5,
   "id": "504dbde4",
   "metadata": {
    "scrolled": true
   },
   "outputs": [
    {
     "data": {
      "text/html": [
       "<div>\n",
       "<style scoped>\n",
       "    .dataframe tbody tr th:only-of-type {\n",
       "        vertical-align: middle;\n",
       "    }\n",
       "\n",
       "    .dataframe tbody tr th {\n",
       "        vertical-align: top;\n",
       "    }\n",
       "\n",
       "    .dataframe thead th {\n",
       "        text-align: right;\n",
       "    }\n",
       "</style>\n",
       "<table border=\"1\" class=\"dataframe\">\n",
       "  <thead>\n",
       "    <tr style=\"text-align: right;\">\n",
       "      <th></th>\n",
       "      <th>id</th>\n",
       "      <th>asins</th>\n",
       "      <th>brand</th>\n",
       "      <th>categories</th>\n",
       "      <th>colors</th>\n",
       "      <th>dateAdded</th>\n",
       "      <th>dateUpdated</th>\n",
       "      <th>dimension</th>\n",
       "      <th>ean</th>\n",
       "      <th>keys</th>\n",
       "      <th>...</th>\n",
       "      <th>reviews.rating</th>\n",
       "      <th>reviews.sourceURLs</th>\n",
       "      <th>reviews.text</th>\n",
       "      <th>reviews.title</th>\n",
       "      <th>reviews.userCity</th>\n",
       "      <th>reviews.userProvince</th>\n",
       "      <th>reviews.username</th>\n",
       "      <th>sizes</th>\n",
       "      <th>upc</th>\n",
       "      <th>weight</th>\n",
       "    </tr>\n",
       "  </thead>\n",
       "  <tbody>\n",
       "    <tr>\n",
       "      <th>0</th>\n",
       "      <td>False</td>\n",
       "      <td>False</td>\n",
       "      <td>False</td>\n",
       "      <td>False</td>\n",
       "      <td>True</td>\n",
       "      <td>False</td>\n",
       "      <td>False</td>\n",
       "      <td>False</td>\n",
       "      <td>True</td>\n",
       "      <td>False</td>\n",
       "      <td>...</td>\n",
       "      <td>False</td>\n",
       "      <td>False</td>\n",
       "      <td>False</td>\n",
       "      <td>False</td>\n",
       "      <td>True</td>\n",
       "      <td>True</td>\n",
       "      <td>False</td>\n",
       "      <td>True</td>\n",
       "      <td>True</td>\n",
       "      <td>False</td>\n",
       "    </tr>\n",
       "    <tr>\n",
       "      <th>1</th>\n",
       "      <td>False</td>\n",
       "      <td>False</td>\n",
       "      <td>False</td>\n",
       "      <td>False</td>\n",
       "      <td>True</td>\n",
       "      <td>False</td>\n",
       "      <td>False</td>\n",
       "      <td>False</td>\n",
       "      <td>True</td>\n",
       "      <td>False</td>\n",
       "      <td>...</td>\n",
       "      <td>False</td>\n",
       "      <td>False</td>\n",
       "      <td>False</td>\n",
       "      <td>False</td>\n",
       "      <td>True</td>\n",
       "      <td>True</td>\n",
       "      <td>False</td>\n",
       "      <td>True</td>\n",
       "      <td>True</td>\n",
       "      <td>False</td>\n",
       "    </tr>\n",
       "    <tr>\n",
       "      <th>2</th>\n",
       "      <td>False</td>\n",
       "      <td>False</td>\n",
       "      <td>False</td>\n",
       "      <td>False</td>\n",
       "      <td>True</td>\n",
       "      <td>False</td>\n",
       "      <td>False</td>\n",
       "      <td>False</td>\n",
       "      <td>True</td>\n",
       "      <td>False</td>\n",
       "      <td>...</td>\n",
       "      <td>False</td>\n",
       "      <td>False</td>\n",
       "      <td>False</td>\n",
       "      <td>False</td>\n",
       "      <td>True</td>\n",
       "      <td>True</td>\n",
       "      <td>False</td>\n",
       "      <td>True</td>\n",
       "      <td>True</td>\n",
       "      <td>False</td>\n",
       "    </tr>\n",
       "    <tr>\n",
       "      <th>3</th>\n",
       "      <td>False</td>\n",
       "      <td>False</td>\n",
       "      <td>False</td>\n",
       "      <td>False</td>\n",
       "      <td>True</td>\n",
       "      <td>False</td>\n",
       "      <td>False</td>\n",
       "      <td>False</td>\n",
       "      <td>True</td>\n",
       "      <td>False</td>\n",
       "      <td>...</td>\n",
       "      <td>False</td>\n",
       "      <td>False</td>\n",
       "      <td>False</td>\n",
       "      <td>False</td>\n",
       "      <td>True</td>\n",
       "      <td>True</td>\n",
       "      <td>False</td>\n",
       "      <td>True</td>\n",
       "      <td>True</td>\n",
       "      <td>False</td>\n",
       "    </tr>\n",
       "    <tr>\n",
       "      <th>4</th>\n",
       "      <td>False</td>\n",
       "      <td>False</td>\n",
       "      <td>False</td>\n",
       "      <td>False</td>\n",
       "      <td>True</td>\n",
       "      <td>False</td>\n",
       "      <td>False</td>\n",
       "      <td>False</td>\n",
       "      <td>True</td>\n",
       "      <td>False</td>\n",
       "      <td>...</td>\n",
       "      <td>False</td>\n",
       "      <td>False</td>\n",
       "      <td>False</td>\n",
       "      <td>False</td>\n",
       "      <td>True</td>\n",
       "      <td>True</td>\n",
       "      <td>False</td>\n",
       "      <td>True</td>\n",
       "      <td>True</td>\n",
       "      <td>False</td>\n",
       "    </tr>\n",
       "    <tr>\n",
       "      <th>...</th>\n",
       "      <td>...</td>\n",
       "      <td>...</td>\n",
       "      <td>...</td>\n",
       "      <td>...</td>\n",
       "      <td>...</td>\n",
       "      <td>...</td>\n",
       "      <td>...</td>\n",
       "      <td>...</td>\n",
       "      <td>...</td>\n",
       "      <td>...</td>\n",
       "      <td>...</td>\n",
       "      <td>...</td>\n",
       "      <td>...</td>\n",
       "      <td>...</td>\n",
       "      <td>...</td>\n",
       "      <td>...</td>\n",
       "      <td>...</td>\n",
       "      <td>...</td>\n",
       "      <td>...</td>\n",
       "      <td>...</td>\n",
       "      <td>...</td>\n",
       "    </tr>\n",
       "    <tr>\n",
       "      <th>1592</th>\n",
       "      <td>False</td>\n",
       "      <td>False</td>\n",
       "      <td>False</td>\n",
       "      <td>False</td>\n",
       "      <td>True</td>\n",
       "      <td>False</td>\n",
       "      <td>False</td>\n",
       "      <td>True</td>\n",
       "      <td>True</td>\n",
       "      <td>False</td>\n",
       "      <td>...</td>\n",
       "      <td>False</td>\n",
       "      <td>False</td>\n",
       "      <td>False</td>\n",
       "      <td>False</td>\n",
       "      <td>True</td>\n",
       "      <td>True</td>\n",
       "      <td>False</td>\n",
       "      <td>True</td>\n",
       "      <td>True</td>\n",
       "      <td>False</td>\n",
       "    </tr>\n",
       "    <tr>\n",
       "      <th>1593</th>\n",
       "      <td>False</td>\n",
       "      <td>False</td>\n",
       "      <td>False</td>\n",
       "      <td>False</td>\n",
       "      <td>True</td>\n",
       "      <td>False</td>\n",
       "      <td>False</td>\n",
       "      <td>True</td>\n",
       "      <td>True</td>\n",
       "      <td>False</td>\n",
       "      <td>...</td>\n",
       "      <td>False</td>\n",
       "      <td>False</td>\n",
       "      <td>False</td>\n",
       "      <td>False</td>\n",
       "      <td>True</td>\n",
       "      <td>True</td>\n",
       "      <td>False</td>\n",
       "      <td>True</td>\n",
       "      <td>True</td>\n",
       "      <td>False</td>\n",
       "    </tr>\n",
       "    <tr>\n",
       "      <th>1594</th>\n",
       "      <td>False</td>\n",
       "      <td>False</td>\n",
       "      <td>False</td>\n",
       "      <td>False</td>\n",
       "      <td>True</td>\n",
       "      <td>False</td>\n",
       "      <td>False</td>\n",
       "      <td>True</td>\n",
       "      <td>True</td>\n",
       "      <td>False</td>\n",
       "      <td>...</td>\n",
       "      <td>False</td>\n",
       "      <td>False</td>\n",
       "      <td>False</td>\n",
       "      <td>False</td>\n",
       "      <td>True</td>\n",
       "      <td>True</td>\n",
       "      <td>False</td>\n",
       "      <td>True</td>\n",
       "      <td>True</td>\n",
       "      <td>False</td>\n",
       "    </tr>\n",
       "    <tr>\n",
       "      <th>1595</th>\n",
       "      <td>False</td>\n",
       "      <td>False</td>\n",
       "      <td>False</td>\n",
       "      <td>False</td>\n",
       "      <td>True</td>\n",
       "      <td>False</td>\n",
       "      <td>False</td>\n",
       "      <td>True</td>\n",
       "      <td>True</td>\n",
       "      <td>False</td>\n",
       "      <td>...</td>\n",
       "      <td>False</td>\n",
       "      <td>False</td>\n",
       "      <td>False</td>\n",
       "      <td>False</td>\n",
       "      <td>True</td>\n",
       "      <td>True</td>\n",
       "      <td>False</td>\n",
       "      <td>True</td>\n",
       "      <td>True</td>\n",
       "      <td>False</td>\n",
       "    </tr>\n",
       "    <tr>\n",
       "      <th>1596</th>\n",
       "      <td>False</td>\n",
       "      <td>False</td>\n",
       "      <td>False</td>\n",
       "      <td>False</td>\n",
       "      <td>True</td>\n",
       "      <td>False</td>\n",
       "      <td>False</td>\n",
       "      <td>True</td>\n",
       "      <td>True</td>\n",
       "      <td>False</td>\n",
       "      <td>...</td>\n",
       "      <td>False</td>\n",
       "      <td>False</td>\n",
       "      <td>False</td>\n",
       "      <td>False</td>\n",
       "      <td>True</td>\n",
       "      <td>True</td>\n",
       "      <td>False</td>\n",
       "      <td>True</td>\n",
       "      <td>True</td>\n",
       "      <td>False</td>\n",
       "    </tr>\n",
       "  </tbody>\n",
       "</table>\n",
       "<p>1597 rows × 27 columns</p>\n",
       "</div>"
      ],
      "text/plain": [
       "         id  asins  brand  categories  colors  dateAdded  dateUpdated  \\\n",
       "0     False  False  False       False    True      False        False   \n",
       "1     False  False  False       False    True      False        False   \n",
       "2     False  False  False       False    True      False        False   \n",
       "3     False  False  False       False    True      False        False   \n",
       "4     False  False  False       False    True      False        False   \n",
       "...     ...    ...    ...         ...     ...        ...          ...   \n",
       "1592  False  False  False       False    True      False        False   \n",
       "1593  False  False  False       False    True      False        False   \n",
       "1594  False  False  False       False    True      False        False   \n",
       "1595  False  False  False       False    True      False        False   \n",
       "1596  False  False  False       False    True      False        False   \n",
       "\n",
       "      dimension   ean   keys  ...  reviews.rating  reviews.sourceURLs  \\\n",
       "0         False  True  False  ...           False               False   \n",
       "1         False  True  False  ...           False               False   \n",
       "2         False  True  False  ...           False               False   \n",
       "3         False  True  False  ...           False               False   \n",
       "4         False  True  False  ...           False               False   \n",
       "...         ...   ...    ...  ...             ...                 ...   \n",
       "1592       True  True  False  ...           False               False   \n",
       "1593       True  True  False  ...           False               False   \n",
       "1594       True  True  False  ...           False               False   \n",
       "1595       True  True  False  ...           False               False   \n",
       "1596       True  True  False  ...           False               False   \n",
       "\n",
       "      reviews.text  reviews.title  reviews.userCity  reviews.userProvince  \\\n",
       "0            False          False              True                  True   \n",
       "1            False          False              True                  True   \n",
       "2            False          False              True                  True   \n",
       "3            False          False              True                  True   \n",
       "4            False          False              True                  True   \n",
       "...            ...            ...               ...                   ...   \n",
       "1592         False          False              True                  True   \n",
       "1593         False          False              True                  True   \n",
       "1594         False          False              True                  True   \n",
       "1595         False          False              True                  True   \n",
       "1596         False          False              True                  True   \n",
       "\n",
       "      reviews.username  sizes   upc  weight  \n",
       "0                False   True  True   False  \n",
       "1                False   True  True   False  \n",
       "2                False   True  True   False  \n",
       "3                False   True  True   False  \n",
       "4                False   True  True   False  \n",
       "...                ...    ...   ...     ...  \n",
       "1592             False   True  True   False  \n",
       "1593             False   True  True   False  \n",
       "1594             False   True  True   False  \n",
       "1595             False   True  True   False  \n",
       "1596             False   True  True   False  \n",
       "\n",
       "[1597 rows x 27 columns]"
      ]
     },
     "execution_count": 5,
     "metadata": {},
     "output_type": "execute_result"
    }
   ],
   "source": [
    "df.isnull()"
   ]
  },
  {
   "cell_type": "code",
   "execution_count": 6,
   "id": "5a30d2ba",
   "metadata": {},
   "outputs": [],
   "source": [
    "# Removing rows with duplicate values based on all columns\n",
    "df.drop_duplicates(inplace=True)\n",
    "\n",
    "\n",
    "\n",
    "# Reset tindex after removing duplicates\n",
    "df.reset_index(drop=True, inplace=True)"
   ]
  },
  {
   "cell_type": "code",
   "execution_count": 7,
   "id": "570e9232",
   "metadata": {},
   "outputs": [],
   "source": [
    "# Listing of columns to remove completely\n",
    "columns_to_drop = ['colors', 'dimension', 'ean', 'manufacturer', 'manufacturerNumber',\n",
    "                   'reviews.doRecommend', 'reviews.numHelpful', 'reviews.sourceURLs',\n",
    "                   'reviews.userCity', 'reviews.userProvince', 'sizes', 'weight']\n",
    "\n"
   ]
  },
  {
   "cell_type": "code",
   "execution_count": 8,
   "id": "a234cb34",
   "metadata": {},
   "outputs": [
    {
     "name": "stdout",
     "output_type": "stream",
     "text": [
      "                     id       asins   brand                  categories  \\\n",
      "0  AVpe7AsMilAPnD_xQ78G  B00QJDU3KY  Amazon  Amazon Devices,mazon.co.uk   \n",
      "1  AVpe7AsMilAPnD_xQ78G  B00QJDU3KY  Amazon  Amazon Devices,mazon.co.uk   \n",
      "2  AVpe7AsMilAPnD_xQ78G  B00QJDU3KY  Amazon  Amazon Devices,mazon.co.uk   \n",
      "3  AVpe7AsMilAPnD_xQ78G  B00QJDU3KY  Amazon  Amazon Devices,mazon.co.uk   \n",
      "4  AVpe7AsMilAPnD_xQ78G  B00QJDU3KY  Amazon  Amazon Devices,mazon.co.uk   \n",
      "\n",
      "              dateAdded           dateUpdated                         keys  \\\n",
      "0  2016-03-08T20:21:53Z  2017-07-18T23:52:58Z  kindlepaperwhite/b00qjdu3ky   \n",
      "1  2016-03-08T20:21:53Z  2017-07-18T23:52:58Z  kindlepaperwhite/b00qjdu3ky   \n",
      "2  2016-03-08T20:21:53Z  2017-07-18T23:52:58Z  kindlepaperwhite/b00qjdu3ky   \n",
      "3  2016-03-08T20:21:53Z  2017-07-18T23:52:58Z  kindlepaperwhite/b00qjdu3ky   \n",
      "4  2016-03-08T20:21:53Z  2017-07-18T23:52:58Z  kindlepaperwhite/b00qjdu3ky   \n",
      "\n",
      "                name                                             prices  \\\n",
      "0  Kindle Paperwhite  [{\"amountMax\":139.99,\"amountMin\":139.99,\"curre...   \n",
      "1  Kindle Paperwhite  [{\"amountMax\":139.99,\"amountMin\":139.99,\"curre...   \n",
      "2  Kindle Paperwhite  [{\"amountMax\":139.99,\"amountMin\":139.99,\"curre...   \n",
      "3  Kindle Paperwhite  [{\"amountMax\":139.99,\"amountMin\":139.99,\"curre...   \n",
      "4  Kindle Paperwhite  [{\"amountMax\":139.99,\"amountMin\":139.99,\"curre...   \n",
      "\n",
      "               reviews.date  reviews.rating  \\\n",
      "0  2015-08-08T00:00:00.000Z             5.0   \n",
      "1  2015-09-01T00:00:00.000Z             5.0   \n",
      "2  2015-07-20T00:00:00.000Z             4.0   \n",
      "3  2017-06-16T00:00:00.000Z             5.0   \n",
      "4  2016-08-11T00:00:00.000Z             5.0   \n",
      "\n",
      "                                        reviews.text  \\\n",
      "0  I initially had trouble deciding between the p...   \n",
      "1  Allow me to preface this with a little history...   \n",
      "2  I am enjoying it so far. Great for reading. Ha...   \n",
      "3  I bought one of the first Paperwhites and have...   \n",
      "4  I have to say upfront - I don't like coroporat...   \n",
      "\n",
      "                                reviews.title    reviews.username  upc  \n",
      "0              Paperwhite voyage, no regrets!          Cristina M  NaN  \n",
      "1           One Simply Could Not Ask For More               Ricky  NaN  \n",
      "2  Great for those that just want an e-reader       Tedd Gardiner  NaN  \n",
      "3                    Love / Hate relationship              Dougal  NaN  \n",
      "4                                   I LOVE IT  Miljan David Tanic  NaN  \n"
     ]
    }
   ],
   "source": [
    "# Droping the specified columns\n",
    "df = df.drop(columns=columns_to_drop, axis=1)\n",
    "\n",
    "\n",
    "print(df.head())\n"
   ]
  },
  {
   "cell_type": "code",
   "execution_count": 9,
   "id": "e56388c1",
   "metadata": {},
   "outputs": [
    {
     "name": "stdout",
     "output_type": "stream",
     "text": [
      "<class 'pandas.core.frame.DataFrame'>\n",
      "RangeIndex: 1597 entries, 0 to 1596\n",
      "Data columns (total 15 columns):\n",
      " #   Column            Non-Null Count  Dtype  \n",
      "---  ------            --------------  -----  \n",
      " 0   id                1597 non-null   object \n",
      " 1   asins             1597 non-null   object \n",
      " 2   brand             1597 non-null   object \n",
      " 3   categories        1597 non-null   object \n",
      " 4   dateAdded         1597 non-null   object \n",
      " 5   dateUpdated       1597 non-null   object \n",
      " 6   keys              1597 non-null   object \n",
      " 7   name              1597 non-null   object \n",
      " 8   prices            1597 non-null   object \n",
      " 9   reviews.date      1217 non-null   object \n",
      " 10  reviews.rating    1177 non-null   float64\n",
      " 11  reviews.text      1597 non-null   object \n",
      " 12  reviews.title     1580 non-null   object \n",
      " 13  reviews.username  1580 non-null   object \n",
      " 14  upc               898 non-null    float64\n",
      "dtypes: float64(2), object(13)\n",
      "memory usage: 187.3+ KB\n"
     ]
    }
   ],
   "source": [
    "df.info()"
   ]
  },
  {
   "cell_type": "code",
   "execution_count": 10,
   "id": "55e1dfec",
   "metadata": {},
   "outputs": [
    {
     "name": "stdout",
     "output_type": "stream",
     "text": [
      "                     id       asins   brand                  categories  \\\n",
      "0  AVpe7AsMilAPnD_xQ78G  B00QJDU3KY  Amazon  Amazon Devices,mazon.co.uk   \n",
      "1  AVpe7AsMilAPnD_xQ78G  B00QJDU3KY  Amazon  Amazon Devices,mazon.co.uk   \n",
      "2  AVpe7AsMilAPnD_xQ78G  B00QJDU3KY  Amazon  Amazon Devices,mazon.co.uk   \n",
      "3  AVpe7AsMilAPnD_xQ78G  B00QJDU3KY  Amazon  Amazon Devices,mazon.co.uk   \n",
      "4  AVpe7AsMilAPnD_xQ78G  B00QJDU3KY  Amazon  Amazon Devices,mazon.co.uk   \n",
      "\n",
      "              dateAdded           dateUpdated                         keys  \\\n",
      "0  2016-03-08T20:21:53Z  2017-07-18T23:52:58Z  kindlepaperwhite/b00qjdu3ky   \n",
      "1  2016-03-08T20:21:53Z  2017-07-18T23:52:58Z  kindlepaperwhite/b00qjdu3ky   \n",
      "2  2016-03-08T20:21:53Z  2017-07-18T23:52:58Z  kindlepaperwhite/b00qjdu3ky   \n",
      "3  2016-03-08T20:21:53Z  2017-07-18T23:52:58Z  kindlepaperwhite/b00qjdu3ky   \n",
      "4  2016-03-08T20:21:53Z  2017-07-18T23:52:58Z  kindlepaperwhite/b00qjdu3ky   \n",
      "\n",
      "                name                                             prices  \\\n",
      "0  Kindle Paperwhite  [{\"amountMax\":139.99,\"amountMin\":139.99,\"curre...   \n",
      "1  Kindle Paperwhite  [{\"amountMax\":139.99,\"amountMin\":139.99,\"curre...   \n",
      "2  Kindle Paperwhite  [{\"amountMax\":139.99,\"amountMin\":139.99,\"curre...   \n",
      "3  Kindle Paperwhite  [{\"amountMax\":139.99,\"amountMin\":139.99,\"curre...   \n",
      "4  Kindle Paperwhite  [{\"amountMax\":139.99,\"amountMin\":139.99,\"curre...   \n",
      "\n",
      "               reviews.date  reviews.rating  \\\n",
      "0  2015-08-08T00:00:00.000Z             5.0   \n",
      "1  2015-09-01T00:00:00.000Z             5.0   \n",
      "2  2015-07-20T00:00:00.000Z             4.0   \n",
      "3  2017-06-16T00:00:00.000Z             5.0   \n",
      "4  2016-08-11T00:00:00.000Z             5.0   \n",
      "\n",
      "                                        reviews.text  \\\n",
      "0  I initially had trouble deciding between the p...   \n",
      "1  Allow me to preface this with a little history...   \n",
      "2  I am enjoying it so far. Great for reading. Ha...   \n",
      "3  I bought one of the first Paperwhites and have...   \n",
      "4  I have to say upfront - I don't like coroporat...   \n",
      "\n",
      "                                reviews.title    reviews.username  upc  \n",
      "0              Paperwhite voyage, no regrets!          Cristina M  NaN  \n",
      "1           One Simply Could Not Ask For More               Ricky  NaN  \n",
      "2  Great for those that just want an e-reader       Tedd Gardiner  NaN  \n",
      "3                    Love / Hate relationship              Dougal  NaN  \n",
      "4                                   I LOVE IT  Miljan David Tanic  NaN  \n"
     ]
    }
   ],
   "source": [
    "# Columns with missing values to replace with mean\n",
    "columns_to_replace_with_mean = ['reviews.rating',]\n",
    "\n",
    "# Replacing missing values with mean\n",
    "for column in columns_to_replace_with_mean:\n",
    "    mean_value = df[column].mean()\n",
    "    df[column].fillna(mean_value, inplace=True)\n",
    "\n",
    "\n",
    "print(df.head())\n"
   ]
  },
  {
   "cell_type": "code",
   "execution_count": 11,
   "id": "aae4ba12",
   "metadata": {},
   "outputs": [
    {
     "name": "stdout",
     "output_type": "stream",
     "text": [
      "<class 'pandas.core.frame.DataFrame'>\n",
      "RangeIndex: 1597 entries, 0 to 1596\n",
      "Data columns (total 15 columns):\n",
      " #   Column            Non-Null Count  Dtype  \n",
      "---  ------            --------------  -----  \n",
      " 0   id                1597 non-null   object \n",
      " 1   asins             1597 non-null   object \n",
      " 2   brand             1597 non-null   object \n",
      " 3   categories        1597 non-null   object \n",
      " 4   dateAdded         1597 non-null   object \n",
      " 5   dateUpdated       1597 non-null   object \n",
      " 6   keys              1597 non-null   object \n",
      " 7   name              1597 non-null   object \n",
      " 8   prices            1597 non-null   object \n",
      " 9   reviews.date      1217 non-null   object \n",
      " 10  reviews.rating    1597 non-null   float64\n",
      " 11  reviews.text      1597 non-null   object \n",
      " 12  reviews.title     1580 non-null   object \n",
      " 13  reviews.username  1580 non-null   object \n",
      " 14  upc               898 non-null    float64\n",
      "dtypes: float64(2), object(13)\n",
      "memory usage: 187.3+ KB\n"
     ]
    }
   ],
   "source": [
    "df.info()"
   ]
  },
  {
   "cell_type": "code",
   "execution_count": 12,
   "id": "87c7198b",
   "metadata": {},
   "outputs": [],
   "source": [
    "c_df=['upc',]"
   ]
  },
  {
   "cell_type": "code",
   "execution_count": 13,
   "id": "8a10fc01",
   "metadata": {},
   "outputs": [
    {
     "name": "stdout",
     "output_type": "stream",
     "text": [
      "                     id       asins   brand                  categories  \\\n",
      "0  AVpe7AsMilAPnD_xQ78G  B00QJDU3KY  Amazon  Amazon Devices,mazon.co.uk   \n",
      "1  AVpe7AsMilAPnD_xQ78G  B00QJDU3KY  Amazon  Amazon Devices,mazon.co.uk   \n",
      "2  AVpe7AsMilAPnD_xQ78G  B00QJDU3KY  Amazon  Amazon Devices,mazon.co.uk   \n",
      "3  AVpe7AsMilAPnD_xQ78G  B00QJDU3KY  Amazon  Amazon Devices,mazon.co.uk   \n",
      "4  AVpe7AsMilAPnD_xQ78G  B00QJDU3KY  Amazon  Amazon Devices,mazon.co.uk   \n",
      "\n",
      "              dateAdded           dateUpdated                         keys  \\\n",
      "0  2016-03-08T20:21:53Z  2017-07-18T23:52:58Z  kindlepaperwhite/b00qjdu3ky   \n",
      "1  2016-03-08T20:21:53Z  2017-07-18T23:52:58Z  kindlepaperwhite/b00qjdu3ky   \n",
      "2  2016-03-08T20:21:53Z  2017-07-18T23:52:58Z  kindlepaperwhite/b00qjdu3ky   \n",
      "3  2016-03-08T20:21:53Z  2017-07-18T23:52:58Z  kindlepaperwhite/b00qjdu3ky   \n",
      "4  2016-03-08T20:21:53Z  2017-07-18T23:52:58Z  kindlepaperwhite/b00qjdu3ky   \n",
      "\n",
      "                name                                             prices  \\\n",
      "0  Kindle Paperwhite  [{\"amountMax\":139.99,\"amountMin\":139.99,\"curre...   \n",
      "1  Kindle Paperwhite  [{\"amountMax\":139.99,\"amountMin\":139.99,\"curre...   \n",
      "2  Kindle Paperwhite  [{\"amountMax\":139.99,\"amountMin\":139.99,\"curre...   \n",
      "3  Kindle Paperwhite  [{\"amountMax\":139.99,\"amountMin\":139.99,\"curre...   \n",
      "4  Kindle Paperwhite  [{\"amountMax\":139.99,\"amountMin\":139.99,\"curre...   \n",
      "\n",
      "               reviews.date  reviews.rating  \\\n",
      "0  2015-08-08T00:00:00.000Z             5.0   \n",
      "1  2015-09-01T00:00:00.000Z             5.0   \n",
      "2  2015-07-20T00:00:00.000Z             4.0   \n",
      "3  2017-06-16T00:00:00.000Z             5.0   \n",
      "4  2016-08-11T00:00:00.000Z             5.0   \n",
      "\n",
      "                                        reviews.text  \\\n",
      "0  I initially had trouble deciding between the p...   \n",
      "1  Allow me to preface this with a little history...   \n",
      "2  I am enjoying it so far. Great for reading. Ha...   \n",
      "3  I bought one of the first Paperwhites and have...   \n",
      "4  I have to say upfront - I don't like coroporat...   \n",
      "\n",
      "                                reviews.title    reviews.username  \n",
      "0              Paperwhite voyage, no regrets!          Cristina M  \n",
      "1           One Simply Could Not Ask For More               Ricky  \n",
      "2  Great for those that just want an e-reader       Tedd Gardiner  \n",
      "3                    Love / Hate relationship              Dougal  \n",
      "4                                   I LOVE IT  Miljan David Tanic  \n"
     ]
    }
   ],
   "source": [
    "\n",
    "df = df.drop(columns=c_df, axis=1)\n",
    "\n",
    "\n",
    "print(df.head())\n"
   ]
  },
  {
   "cell_type": "code",
   "execution_count": 14,
   "id": "8d21d585",
   "metadata": {},
   "outputs": [
    {
     "name": "stdout",
     "output_type": "stream",
     "text": [
      "<class 'pandas.core.frame.DataFrame'>\n",
      "RangeIndex: 1597 entries, 0 to 1596\n",
      "Data columns (total 14 columns):\n",
      " #   Column            Non-Null Count  Dtype  \n",
      "---  ------            --------------  -----  \n",
      " 0   id                1597 non-null   object \n",
      " 1   asins             1597 non-null   object \n",
      " 2   brand             1597 non-null   object \n",
      " 3   categories        1597 non-null   object \n",
      " 4   dateAdded         1597 non-null   object \n",
      " 5   dateUpdated       1597 non-null   object \n",
      " 6   keys              1597 non-null   object \n",
      " 7   name              1597 non-null   object \n",
      " 8   prices            1597 non-null   object \n",
      " 9   reviews.date      1217 non-null   object \n",
      " 10  reviews.rating    1597 non-null   float64\n",
      " 11  reviews.text      1597 non-null   object \n",
      " 12  reviews.title     1580 non-null   object \n",
      " 13  reviews.username  1580 non-null   object \n",
      "dtypes: float64(1), object(13)\n",
      "memory usage: 174.8+ KB\n"
     ]
    }
   ],
   "source": [
    "df.info()"
   ]
  },
  {
   "cell_type": "markdown",
   "id": "bb81d01c",
   "metadata": {},
   "source": [
    "# DATA FORMATTING "
   ]
  },
  {
   "cell_type": "code",
   "execution_count": 15,
   "id": "5b79f20b",
   "metadata": {},
   "outputs": [],
   "source": [
    "from sklearn.preprocessing import OrdinalEncoder\n",
    "\n",
    "# Assuming df is your DataFrame and 'product_id' is the column containing string IDs\n",
    "encoder = OrdinalEncoder()\n",
    "df['id'] = encoder.fit_transform(df[['id']])\n",
    "df['asins'] = encoder.fit_transform(df[['asins']])"
   ]
  },
  {
   "cell_type": "code",
   "execution_count": 16,
   "id": "a1ad4e8e",
   "metadata": {},
   "outputs": [],
   "source": [
    "df['id'] = df['id'].astype(float)\n",
    "df['asins'] = df['asins'].astype(float)\n"
   ]
  },
  {
   "cell_type": "code",
   "execution_count": 17,
   "id": "be2bbbed",
   "metadata": {},
   "outputs": [
    {
     "name": "stdout",
     "output_type": "stream",
     "text": [
      "<class 'pandas.core.frame.DataFrame'>\n",
      "RangeIndex: 1597 entries, 0 to 1596\n",
      "Data columns (total 14 columns):\n",
      " #   Column            Non-Null Count  Dtype  \n",
      "---  ------            --------------  -----  \n",
      " 0   id                1597 non-null   float64\n",
      " 1   asins             1597 non-null   float64\n",
      " 2   brand             1597 non-null   object \n",
      " 3   categories        1597 non-null   object \n",
      " 4   dateAdded         1597 non-null   object \n",
      " 5   dateUpdated       1597 non-null   object \n",
      " 6   keys              1597 non-null   object \n",
      " 7   name              1597 non-null   object \n",
      " 8   prices            1597 non-null   object \n",
      " 9   reviews.date      1217 non-null   object \n",
      " 10  reviews.rating    1597 non-null   float64\n",
      " 11  reviews.text      1597 non-null   object \n",
      " 12  reviews.title     1580 non-null   object \n",
      " 13  reviews.username  1580 non-null   object \n",
      "dtypes: float64(3), object(11)\n",
      "memory usage: 174.8+ KB\n"
     ]
    }
   ],
   "source": [
    "df.info()"
   ]
  },
  {
   "cell_type": "markdown",
   "id": "3357e8c0",
   "metadata": {},
   "source": [
    "# TEXT PREPROCESSING AND CLEANING"
   ]
  },
  {
   "cell_type": "code",
   "execution_count": 18,
   "id": "c4acfae7",
   "metadata": {},
   "outputs": [],
   "source": [
    "import pandas as pd\n",
    "import re\n",
    "import nltk\n",
    "from nltk.corpus import stopwords\n",
    "from nltk.tokenize import word_tokenize\n",
    "from nltk.stem import WordNetLemmatizer\n",
    "import string"
   ]
  },
  {
   "cell_type": "code",
   "execution_count": 19,
   "id": "0d0b81fd",
   "metadata": {},
   "outputs": [
    {
     "name": "stderr",
     "output_type": "stream",
     "text": [
      "[nltk_data] Downloading package punkt to\n",
      "[nltk_data]     C:\\Users\\geeta\\AppData\\Roaming\\nltk_data...\n",
      "[nltk_data]   Package punkt is already up-to-date!\n",
      "[nltk_data] Downloading package stopwords to\n",
      "[nltk_data]     C:\\Users\\geeta\\AppData\\Roaming\\nltk_data...\n",
      "[nltk_data]   Package stopwords is already up-to-date!\n",
      "[nltk_data] Downloading package wordnet to\n",
      "[nltk_data]     C:\\Users\\geeta\\AppData\\Roaming\\nltk_data...\n",
      "[nltk_data]   Package wordnet is already up-to-date!\n"
     ]
    },
    {
     "data": {
      "text/plain": [
       "True"
      ]
     },
     "execution_count": 19,
     "metadata": {},
     "output_type": "execute_result"
    }
   ],
   "source": [
    "# Downloading NLTK resources\n",
    "nltk.download('punkt')\n",
    "nltk.download('stopwords')\n",
    "nltk.download('wordnet')"
   ]
  },
  {
   "cell_type": "code",
   "execution_count": 20,
   "id": "6a3c9ccb",
   "metadata": {},
   "outputs": [],
   "source": [
    "# Storing the preprocessed DataFrame into a new CSV file\n",
    "df.to_csv('preprocessed_data.csv', index=False)\n"
   ]
  },
  {
   "cell_type": "code",
   "execution_count": 21,
   "id": "78e7972a",
   "metadata": {},
   "outputs": [],
   "source": [
    "# Load the preprocessed data file into a new DataFrame\n",
    "preprocessed_df = pd.read_csv('preprocessed_data.csv')"
   ]
  },
  {
   "cell_type": "code",
   "execution_count": 80,
   "id": "ea70de63",
   "metadata": {},
   "outputs": [
    {
     "name": "stdout",
     "output_type": "stream",
     "text": [
      "<class 'pandas.core.frame.DataFrame'>\n",
      "RangeIndex: 1597 entries, 0 to 1596\n",
      "Data columns (total 9 columns):\n",
      " #   Column                   Non-Null Count  Dtype              \n",
      "---  ------                   --------------  -----              \n",
      " 0   id                       1597 non-null   float64            \n",
      " 1   asins                    1597 non-null   float64            \n",
      " 2   dateUpdated              1597 non-null   datetime64[ns, UTC]\n",
      " 3   reviews.date             1217 non-null   datetime64[ns, UTC]\n",
      " 4   reviews.rating           1597 non-null   float64            \n",
      " 5   reviews.text             1597 non-null   object             \n",
      " 6   preprocessed_text        1597 non-null   object             \n",
      " 7   sentiment_score          1597 non-null   float64            \n",
      " 8   rating_category_encoded  1597 non-null   float64            \n",
      "dtypes: datetime64[ns, UTC](2), float64(5), object(2)\n",
      "memory usage: 112.4+ KB\n"
     ]
    }
   ],
   "source": [
    "# Display information about the DataFrame\n",
    "preprocessed_df.info()"
   ]
  },
  {
   "cell_type": "markdown",
   "id": "b159b3bc",
   "metadata": {},
   "source": [
    "# SENTIMENT ANALYSIS AND FEATURE ENGINEERING"
   ]
  },
  {
   "cell_type": "code",
   "execution_count": 23,
   "id": "4bce0616",
   "metadata": {},
   "outputs": [
    {
     "name": "stdout",
     "output_type": "stream",
     "text": [
      "                                        reviews.text  \\\n",
      "0  I initially had trouble deciding between the p...   \n",
      "1  Allow me to preface this with a little history...   \n",
      "2  I am enjoying it so far. Great for reading. Ha...   \n",
      "3  I bought one of the first Paperwhites and have...   \n",
      "4  I have to say upfront - I don't like coroporat...   \n",
      "\n",
      "                                   preprocessed_text  \n",
      "0  initi troubl decid paperwhit voyag review less...  \n",
      "1  allow prefac littl histori casual reader own n...  \n",
      "2  enjoy far great read origin fire sinc 2012 fir...  \n",
      "3  bought one first paperwhit pleas constant comp...  \n",
      "4  say upfront n't like coropor hermet close stuf...  \n"
     ]
    }
   ],
   "source": [
    "# Function to preprocess text\n",
    "def preprocess_text(text):\n",
    "    # Tokenization\n",
    "    tokens = word_tokenize(text)\n",
    "    \n",
    "    # Lowercasing\n",
    "    tokens = [word.lower() for word in tokens]\n",
    "    \n",
    "    # Removinh punctuation\n",
    "    tokens = [word for word in tokens if word not in string.punctuation]\n",
    "    \n",
    "    # Removing stopwords\n",
    "    stop_words = set(stopwords.words('english'))\n",
    "    tokens = [word for word in tokens if word not in stop_words]\n",
    "    \n",
    "    # Stemming \n",
    "    stemmer = nltk.stem.PorterStemmer()\n",
    "    tokens = [stemmer.stem(word) for word in tokens]\n",
    "    \n",
    "    # Joining tokens back into a single string\n",
    "    preprocessed_text = ' '.join(tokens)\n",
    "    \n",
    "    return preprocessed_text\n",
    "\n",
    "# Applying preprocessing to DataFrame's text column\n",
    "preprocessed_df['preprocessed_text'] = preprocessed_df['reviews.text'].apply(preprocess_text)\n",
    "\n",
    "print(preprocessed_df[['reviews.text', 'preprocessed_text']].head())\n",
    "              "
   ]
  },
  {
   "cell_type": "code",
   "execution_count": 24,
   "id": "0436ec69",
   "metadata": {},
   "outputs": [
    {
     "name": "stderr",
     "output_type": "stream",
     "text": [
      "[nltk_data] Downloading package vader_lexicon to\n",
      "[nltk_data]     C:\\Users\\geeta\\AppData\\Roaming\\nltk_data...\n",
      "[nltk_data]   Package vader_lexicon is already up-to-date!\n"
     ]
    },
    {
     "data": {
      "text/plain": [
       "True"
      ]
     },
     "execution_count": 24,
     "metadata": {},
     "output_type": "execute_result"
    }
   ],
   "source": [
    "from sklearn.feature_extraction.text import CountVectorizer\n",
    "from nltk.sentiment.vader import SentimentIntensityAnalyzer\n",
    "import nltk\n",
    "nltk.download('vader_lexicon')\n"
   ]
  },
  {
   "cell_type": "code",
   "execution_count": 25,
   "id": "2973d715",
   "metadata": {},
   "outputs": [],
   "source": [
    "\n",
    "# Initializing the sentiment analyzer\n",
    "sid = SentimentIntensityAnalyzer()\n",
    "\n",
    "# Function to get sentiment scores\n",
    "def get_sentiment_scores(text):\n",
    "    scores = sid.polarity_scores(text)\n",
    "    return scores['compound']\n",
    "\n",
    "\n",
    "\n"
   ]
  },
  {
   "cell_type": "code",
   "execution_count": 26,
   "id": "f6e621c0",
   "metadata": {},
   "outputs": [],
   "source": [
    "# Applying sentiment analysis to the text column\n",
    "preprocessed_df['sentiment_score'] = preprocessed_df['reviews.text'].apply(get_sentiment_scores)\n"
   ]
  },
  {
   "cell_type": "markdown",
   "id": "39c78f75",
   "metadata": {},
   "source": [
    "# VECTRIZATION: transform raw textual data into a format that machine learning algorithms can effectively learn"
   ]
  },
  {
   "cell_type": "code",
   "execution_count": 27,
   "id": "c0555a9b",
   "metadata": {},
   "outputs": [],
   "source": [
    "\n",
    "# Initializing the CountVectorizer for BoW representation\n",
    "vectorizer = CountVectorizer(max_features=1000)  # Adjust max_features as needed\n",
    "X_bow = vectorizer.fit_transform(preprocessed_df['reviews.text'])"
   ]
  },
  {
   "cell_type": "code",
   "execution_count": 28,
   "id": "eb93f411",
   "metadata": {},
   "outputs": [],
   "source": [
    "# Converting BoW representation to DataFrame\n",
    "bow_df = pd.DataFrame(X_bow.toarray(), columns=vectorizer.get_feature_names_out())"
   ]
  },
  {
   "cell_type": "code",
   "execution_count": 29,
   "id": "dbd6ee3d",
   "metadata": {},
   "outputs": [],
   "source": [
    "# Concatenating sentiment scores with BoW features\n",
    "features_df = pd.concat([bow_df, preprocessed_df['sentiment_score']], axis=1)\n",
    "\n",
    "df['sentiment_score'] =preprocessed_df ['sentiment_score']\n"
   ]
  },
  {
   "cell_type": "code",
   "execution_count": 30,
   "id": "0c687f01",
   "metadata": {},
   "outputs": [
    {
     "name": "stdout",
     "output_type": "stream",
     "text": [
      "   10  100  1080p  11  12  15  16  16gb  20  2013  ...  write  wrong  year  \\\n",
      "0   0    0      0   0   0   0   0     0   0     0  ...      0      0     0   \n",
      "1   0    0      0   0   0   0   0     0   0     0  ...      0      0     0   \n",
      "2   0    0      0   0   0   0   0     0   0     0  ...      0      0     0   \n",
      "3   0    0      0   0   0   0   0     0   0     0  ...      0      0     0   \n",
      "4   0    0      0   0   0   0   0     0   0     0  ...      0      0     0   \n",
      "\n",
      "   years  yes  yet  you  your  youtube  sentiment_score  \n",
      "0      0    0    0    4     0        0           0.9804  \n",
      "1      1    0    0    5     0        0           0.9874  \n",
      "2      0    0    1    0     0        0           0.4364  \n",
      "3      1    0    0    3     0        0           0.9743  \n",
      "4      1    0    0    2     0        0           0.9930  \n",
      "\n",
      "[5 rows x 1001 columns]\n"
     ]
    }
   ],
   "source": [
    "\n",
    "\n",
    "print(features_df.head())\n"
   ]
  },
  {
   "cell_type": "code",
   "execution_count": 31,
   "id": "1bb9b231",
   "metadata": {},
   "outputs": [],
   "source": [
    "# Grouping by product identifier and calculate the average sentiment score\n",
    "product_sentiment = df.groupby('asins')['sentiment_score'].mean()"
   ]
  },
  {
   "cell_type": "code",
   "execution_count": 32,
   "id": "bb5171d5",
   "metadata": {},
   "outputs": [
    {
     "name": "stdout",
     "output_type": "stream",
     "text": [
      "asins\n",
      "0.0     0.634212\n",
      "1.0     0.765965\n",
      "2.0     0.971441\n",
      "3.0     0.726164\n",
      "4.0     0.988025\n",
      "5.0     0.300193\n",
      "6.0     0.571554\n",
      "7.0     0.970974\n",
      "8.0     0.956634\n",
      "9.0     0.272333\n",
      "10.0    0.472633\n",
      "11.0    0.989433\n",
      "12.0    0.195629\n",
      "13.0    0.977956\n",
      "14.0    0.411575\n",
      "15.0    0.828733\n",
      "16.0   -0.028492\n",
      "17.0    0.349128\n",
      "18.0    0.944333\n",
      "19.0    0.927267\n",
      "20.0    0.944333\n",
      "21.0    0.748970\n",
      "22.0    0.944333\n",
      "23.0    0.944333\n",
      "24.0    0.803975\n",
      "25.0    0.803975\n",
      "26.0    0.949025\n",
      "27.0    0.980967\n",
      "28.0    0.276133\n",
      "29.0    0.985867\n",
      "30.0    0.914700\n",
      "31.0    0.196400\n",
      "32.0    0.543933\n",
      "33.0    0.200314\n",
      "34.0    0.682839\n",
      "35.0    0.404833\n",
      "36.0    0.433586\n",
      "37.0    0.993400\n",
      "38.0    0.468014\n",
      "39.0    0.353914\n",
      "40.0    0.785985\n",
      "41.0    0.990189\n",
      "42.0    0.844771\n",
      "43.0    0.532350\n",
      "44.0    0.714204\n",
      "45.0    0.894580\n",
      "46.0    0.980475\n",
      "47.0    0.915100\n",
      "48.0    0.600625\n",
      "49.0    0.915617\n",
      "50.0    0.554800\n",
      "51.0    0.680533\n",
      "52.0    0.443589\n",
      "53.0    0.564394\n",
      "Name: sentiment_score, dtype: float64\n"
     ]
    }
   ],
   "source": [
    "print(product_sentiment )"
   ]
  },
  {
   "cell_type": "code",
   "execution_count": 33,
   "id": "11f40a3f",
   "metadata": {},
   "outputs": [],
   "source": [
    "# Initialize the VADER sentiment analyzer\n",
    "sid = SentimentIntensityAnalyzer()\n",
    "\n",
    "# Function to get sentiment scores\n",
    "def get_sentiment_scores(text):\n",
    "    scores = sid.polarity_scores(text)\n",
    "    return scores['compound']\n",
    "\n",
    "# Apply the sentiment analysis function to each text in the DataFrame\n",
    "df['sentiment_score'] = df['reviews.text'].apply(get_sentiment_scores)\n"
   ]
  },
  {
   "cell_type": "code",
   "execution_count": 34,
   "id": "c72016ca",
   "metadata": {},
   "outputs": [
    {
     "name": "stdout",
     "output_type": "stream",
     "text": [
      "                                           reviews.text  sentiment_score\n",
      "0     I initially had trouble deciding between the p...           0.9804\n",
      "1     Allow me to preface this with a little history...           0.9874\n",
      "2     I am enjoying it so far. Great for reading. Ha...           0.4364\n",
      "3     I bought one of the first Paperwhites and have...           0.9743\n",
      "4     I have to say upfront - I don't like coroporat...           0.9930\n",
      "...                                                 ...              ...\n",
      "1592  This is not the same remote that I got for my ...          -0.7405\n",
      "1593  I have had to change the batteries in this rem...          -0.9205\n",
      "1594  Remote did not activate, nor did it connect to...          -0.8126\n",
      "1595  It does the job but is super over priced. I fe...           0.8271\n",
      "1596  I ordered this item to replace the one that no...          -0.8630\n",
      "\n",
      "[1597 rows x 2 columns]\n"
     ]
    }
   ],
   "source": [
    "# Display the DataFrame with sentiment scores\n",
    "print(df[['reviews.text', 'sentiment_score']])"
   ]
  },
  {
   "cell_type": "code",
   "execution_count": 34,
   "id": "df31ce83",
   "metadata": {},
   "outputs": [
    {
     "name": "stdout",
     "output_type": "stream",
     "text": [
      "                                           reviews.text  sentiment_score\n",
      "0     I initially had trouble deciding between the p...           0.9804\n",
      "1     Allow me to preface this with a little history...           0.9874\n",
      "2     I am enjoying it so far. Great for reading. Ha...           0.4364\n",
      "3     I bought one of the first Paperwhites and have...           0.9743\n",
      "4     I have to say upfront - I don't like coroporat...           0.9930\n",
      "...                                                 ...              ...\n",
      "1592  This is not the same remote that I got for my ...          -0.7405\n",
      "1593  I have had to change the batteries in this rem...          -0.9205\n",
      "1594  Remote did not activate, nor did it connect to...          -0.8126\n",
      "1595  It does the job but is super over priced. I fe...           0.8271\n",
      "1596  I ordered this item to replace the one that no...          -0.8630\n",
      "\n",
      "[1597 rows x 2 columns]\n"
     ]
    }
   ],
   "source": [
    "# Display the DataFrame with sentiment scores\n",
    "print(df[['reviews.text', 'sentiment_score']])"
   ]
  },
  {
   "cell_type": "code",
   "execution_count": 34,
   "id": "b0ec4182",
   "metadata": {},
   "outputs": [
    {
     "name": "stdout",
     "output_type": "stream",
     "text": [
      "                                           reviews.text  sentiment_score\n",
      "0     I initially had trouble deciding between the p...           0.9804\n",
      "1     Allow me to preface this with a little history...           0.9874\n",
      "2     I am enjoying it so far. Great for reading. Ha...           0.4364\n",
      "3     I bought one of the first Paperwhites and have...           0.9743\n",
      "4     I have to say upfront - I don't like coroporat...           0.9930\n",
      "...                                                 ...              ...\n",
      "1592  This is not the same remote that I got for my ...          -0.7405\n",
      "1593  I have had to change the batteries in this rem...          -0.9205\n",
      "1594  Remote did not activate, nor did it connect to...          -0.8126\n",
      "1595  It does the job but is super over priced. I fe...           0.8271\n",
      "1596  I ordered this item to replace the one that no...          -0.8630\n",
      "\n",
      "[1597 rows x 2 columns]\n"
     ]
    }
   ],
   "source": [
    "# Display the DataFrame with sentiment scores\n",
    "print(df[['reviews.text', 'sentiment_score']])"
   ]
  },
  {
   "cell_type": "code",
   "execution_count": 34,
   "id": "62e6da57",
   "metadata": {},
   "outputs": [
    {
     "name": "stdout",
     "output_type": "stream",
     "text": [
      "                                           reviews.text  sentiment_score\n",
      "0     I initially had trouble deciding between the p...           0.9804\n",
      "1     Allow me to preface this with a little history...           0.9874\n",
      "2     I am enjoying it so far. Great for reading. Ha...           0.4364\n",
      "3     I bought one of the first Paperwhites and have...           0.9743\n",
      "4     I have to say upfront - I don't like coroporat...           0.9930\n",
      "...                                                 ...              ...\n",
      "1592  This is not the same remote that I got for my ...          -0.7405\n",
      "1593  I have had to change the batteries in this rem...          -0.9205\n",
      "1594  Remote did not activate, nor did it connect to...          -0.8126\n",
      "1595  It does the job but is super over priced. I fe...           0.8271\n",
      "1596  I ordered this item to replace the one that no...          -0.8630\n",
      "\n",
      "[1597 rows x 2 columns]\n"
     ]
    }
   ],
   "source": [
    "# Display the DataFrame with sentiment scores\n",
    "print(df[['reviews.text', 'sentiment_score']])"
   ]
  },
  {
   "cell_type": "code",
   "execution_count": 34,
   "id": "8e376994",
   "metadata": {},
   "outputs": [
    {
     "name": "stdout",
     "output_type": "stream",
     "text": [
      "                                           reviews.text  sentiment_score\n",
      "0     I initially had trouble deciding between the p...           0.9804\n",
      "1     Allow me to preface this with a little history...           0.9874\n",
      "2     I am enjoying it so far. Great for reading. Ha...           0.4364\n",
      "3     I bought one of the first Paperwhites and have...           0.9743\n",
      "4     I have to say upfront - I don't like coroporat...           0.9930\n",
      "...                                                 ...              ...\n",
      "1592  This is not the same remote that I got for my ...          -0.7405\n",
      "1593  I have had to change the batteries in this rem...          -0.9205\n",
      "1594  Remote did not activate, nor did it connect to...          -0.8126\n",
      "1595  It does the job but is super over priced. I fe...           0.8271\n",
      "1596  I ordered this item to replace the one that no...          -0.8630\n",
      "\n",
      "[1597 rows x 2 columns]\n"
     ]
    }
   ],
   "source": [
    "# Display the DataFrame with sentiment scores\n",
    "print(df[['reviews.text', 'sentiment_score']])"
   ]
  },
  {
   "cell_type": "code",
   "execution_count": 34,
   "id": "5a8dec08",
   "metadata": {},
   "outputs": [
    {
     "name": "stdout",
     "output_type": "stream",
     "text": [
      "                                           reviews.text  sentiment_score\n",
      "0     I initially had trouble deciding between the p...           0.9804\n",
      "1     Allow me to preface this with a little history...           0.9874\n",
      "2     I am enjoying it so far. Great for reading. Ha...           0.4364\n",
      "3     I bought one of the first Paperwhites and have...           0.9743\n",
      "4     I have to say upfront - I don't like coroporat...           0.9930\n",
      "...                                                 ...              ...\n",
      "1592  This is not the same remote that I got for my ...          -0.7405\n",
      "1593  I have had to change the batteries in this rem...          -0.9205\n",
      "1594  Remote did not activate, nor did it connect to...          -0.8126\n",
      "1595  It does the job but is super over priced. I fe...           0.8271\n",
      "1596  I ordered this item to replace the one that no...          -0.8630\n",
      "\n",
      "[1597 rows x 2 columns]\n"
     ]
    }
   ],
   "source": [
    "# Display the DataFrame with sentiment scores\n",
    "print(df[['reviews.text', 'sentiment_score']])"
   ]
  },
  {
   "cell_type": "code",
   "execution_count": 34,
   "id": "b2bef6dc",
   "metadata": {},
   "outputs": [
    {
     "name": "stdout",
     "output_type": "stream",
     "text": [
      "                                           reviews.text  sentiment_score\n",
      "0     I initially had trouble deciding between the p...           0.9804\n",
      "1     Allow me to preface this with a little history...           0.9874\n",
      "2     I am enjoying it so far. Great for reading. Ha...           0.4364\n",
      "3     I bought one of the first Paperwhites and have...           0.9743\n",
      "4     I have to say upfront - I don't like coroporat...           0.9930\n",
      "...                                                 ...              ...\n",
      "1592  This is not the same remote that I got for my ...          -0.7405\n",
      "1593  I have had to change the batteries in this rem...          -0.9205\n",
      "1594  Remote did not activate, nor did it connect to...          -0.8126\n",
      "1595  It does the job but is super over priced. I fe...           0.8271\n",
      "1596  I ordered this item to replace the one that no...          -0.8630\n",
      "\n",
      "[1597 rows x 2 columns]\n"
     ]
    }
   ],
   "source": [
    "# Display the DataFrame with sentiment scores\n",
    "print(df[['reviews.text', 'sentiment_score']])"
   ]
  },
  {
   "cell_type": "code",
   "execution_count": 35,
   "id": "69d3388c",
   "metadata": {},
   "outputs": [
    {
     "name": "stdout",
     "output_type": "stream",
     "text": [
      "                                           reviews.text  sentiment_score\n",
      "0     I initially had trouble deciding between the p...           0.9804\n",
      "1     Allow me to preface this with a little history...           0.9874\n",
      "2     I am enjoying it so far. Great for reading. Ha...           0.4364\n",
      "3     I bought one of the first Paperwhites and have...           0.9743\n",
      "4     I have to say upfront - I don't like coroporat...           0.9930\n",
      "...                                                 ...              ...\n",
      "1592  This is not the same remote that I got for my ...          -0.7405\n",
      "1593  I have had to change the batteries in this rem...          -0.9205\n",
      "1594  Remote did not activate, nor did it connect to...          -0.8126\n",
      "1595  It does the job but is super over priced. I fe...           0.8271\n",
      "1596  I ordered this item to replace the one that no...          -0.8630\n",
      "\n",
      "[1597 rows x 2 columns]\n"
     ]
    }
   ],
   "source": [
    "\n",
    "# Adding sentiment score column to your DataFrame\n",
    "df['sentiment_score'] = preprocessed_df['sentiment_score']\n",
    "\n",
    "print(df[['reviews.text', 'sentiment_score']])\n",
    "\n"
   ]
  },
  {
   "cell_type": "markdown",
   "id": "f5ef40c5",
   "metadata": {},
   "source": [
    "# DATA SPLITTING "
   ]
  },
  {
   "cell_type": "code",
   "execution_count": 36,
   "id": "2bcd95e7",
   "metadata": {},
   "outputs": [],
   "source": [
    "from sklearn.model_selection import train_test_split"
   ]
  },
  {
   "cell_type": "code",
   "execution_count": 37,
   "id": "83d6c613",
   "metadata": {},
   "outputs": [
    {
     "name": "stdout",
     "output_type": "stream",
     "text": [
      "Training set shape: (1277, 14) (1277,)\n",
      "Testing set shape: (320, 14) (320,)\n"
     ]
    }
   ],
   "source": [
    "# Specifying the features (X) and target variable (y)\n",
    "X = df.drop(columns=['sentiment_score'])  # Features\n",
    "y = df['sentiment_score']  # Target variable\n",
    "\n",
    "# Spliting the data into training and testing sets (e.g., 80% train, 20% test)\n",
    "X_train, X_test, y_train, y_test = train_test_split(X, y, test_size=0.2, random_state=42)\n",
    "\n",
    "# Printing the shapes of the training and testing sets\n",
    "print(\"Training set shape:\", X_train.shape, y_train.shape)\n",
    "print(\"Testing set shape:\", X_test.shape, y_test.shape)"
   ]
  },
  {
   "cell_type": "markdown",
   "id": "5394ed06",
   "metadata": {},
   "source": [
    "# DATA GRAPHICAL REPRESENTATION"
   ]
  },
  {
   "cell_type": "code",
   "execution_count": 38,
   "id": "ae53dc88",
   "metadata": {},
   "outputs": [],
   "source": [
    "import pandas as pd\n",
    "import matplotlib.pyplot as plt\n",
    "import seaborn as sns"
   ]
  },
  {
   "cell_type": "code",
   "execution_count": 39,
   "id": "608e3bbe",
   "metadata": {},
   "outputs": [
    {
     "name": "stdout",
     "output_type": "stream",
     "text": [
      "\n",
      "Summary statistics of sentiment scores:\n",
      "count    1597.000000\n",
      "mean        0.704238\n",
      "std         0.443395\n",
      "min        -0.965200\n",
      "25%         0.659700\n",
      "50%         0.906200\n",
      "75%         0.975800\n",
      "max         0.999900\n",
      "Name: sentiment_score, dtype: float64\n"
     ]
    }
   ],
   "source": [
    "\n",
    "# Summary statistics of sentiment scores\n",
    "print(\"\\nSummary statistics of sentiment scores:\")\n",
    "print(df['sentiment_score'].describe())"
   ]
  },
  {
   "cell_type": "code",
   "execution_count": 40,
   "id": "9a083f45",
   "metadata": {},
   "outputs": [
    {
     "data": {
      "image/png": "[encoded data removed]",
      "text/plain": [
       "<Figure size 1000x600 with 1 Axes>"
      ]
     },
     "metadata": {},
     "output_type": "display_data"
    }
   ],
   "source": [
    "# Distribution of sentiment scores\n",
    "plt.figure(figsize=(10, 6))\n",
    "sns.histplot(df['sentiment_score'], bins=30, kde=True, color='skyblue')\n",
    "plt.title('Distribution of Sentiment Scores')\n",
    "plt.xlabel('Sentiment Score')\n",
    "plt.ylabel('Frequency')\n",
    "plt.show()\n"
   ]
  },
  {
   "cell_type": "code",
   "execution_count": 41,
   "id": "96fe95bf",
   "metadata": {},
   "outputs": [
    {
     "data": {
      "image/png": "[encoded data removed]",
      "text/plain": [
       "<Figure size 1000x600 with 1 Axes>"
      ]
     },
     "metadata": {},
     "output_type": "display_data"
    }
   ],
   "source": [
    "# Relationship between sentiment score and rating\n",
    "plt.figure(figsize=(10, 6))\n",
    "sns.boxplot(x=df['reviews.rating'], y=df['sentiment_score'])\n",
    "plt.title('Relationship between Sentiment Score and Rating')\n",
    "plt.xlabel('Rating')\n",
    "plt.ylabel('Sentiment Score')\n",
    "plt.show()\n"
   ]
  },
  {
   "cell_type": "code",
   "execution_count": 42,
   "id": "b54b9c2b",
   "metadata": {},
   "outputs": [
    {
     "data": {
      "image/png": "[encoded data removed]",
      "text/plain": [
       "<Figure size 1000x800 with 2 Axes>"
      ]
     },
     "metadata": {},
     "output_type": "display_data"
    }
   ],
   "source": [
    "# Correlation heatmap of numeric features\n",
    "numeric_features = df.select_dtypes(include=['int64', 'float64']).columns\n",
    "plt.figure(figsize=(10, 8))\n",
    "sns.heatmap(df[numeric_features].corr(), annot=True, cmap='coolwarm', fmt=\".2f\")\n",
    "plt.title('Correlation Heatmap of Numeric Features')\n",
    "plt.show()\n"
   ]
  },
  {
   "cell_type": "code",
   "execution_count": 43,
   "id": "7cd4682b",
   "metadata": {},
   "outputs": [],
   "source": [
    "from sklearn.model_selection import train_test_split\n",
    "from sklearn.linear_model import LinearRegression\n",
    "from sklearn.metrics import mean_squared_error, r2_score\n",
    "from sklearn.feature_extraction.text import TfidfVectorizer\n"
   ]
  },
  {
   "cell_type": "code",
   "execution_count": 44,
   "id": "1ff8732a",
   "metadata": {},
   "outputs": [],
   "source": [
    "# # Selected relevant columns\n",
    "# X = df[['id', 'asins', 'reviews.rating', 'reviews.text']]\n",
    "# y = df['sentiment_score']"
   ]
  },
  {
   "cell_type": "code",
   "execution_count": 45,
   "id": "4353309d",
   "metadata": {},
   "outputs": [],
   "source": [
    "# # Split the data into training and testing sets\n",
    "# X_train, X_test, y_train, y_test = train_test_split(X, y, test_size=0.2, random_state=42)\n"
   ]
  },
  {
   "cell_type": "code",
   "execution_count": 46,
   "id": "79bbb605",
   "metadata": {},
   "outputs": [],
   "source": [
    "# # Preprocess the 'reviews.text' column\n",
    "# vectorizer = TfidfVectorizer(max_features=1000)\n",
    "# X_train_text = vectorizer.fit_transform(X_train['reviews.text'])\n",
    "# X_test_text = vectorizer.transform(X_test['reviews.text'])"
   ]
  },
  {
   "cell_type": "code",
   "execution_count": 47,
   "id": "8d49aa10",
   "metadata": {},
   "outputs": [],
   "source": [
    "# # Concatenate the text features with other features\n",
    "# X_train = X_train.drop(columns=['reviews.text'])\n",
    "# X_train = pd.concat([X_train.reset_index(drop=True), pd.DataFrame(X_train_text.toarray())], axis=1)\n"
   ]
  },
  {
   "cell_type": "code",
   "execution_count": 48,
   "id": "e42cd966",
   "metadata": {},
   "outputs": [],
   "source": [
    "# X_test = X_test.drop(columns=['reviews.text'])\n",
    "# X_test = pd.concat([X_test.reset_index(drop=True), pd.DataFrame(X_test_text.toarray())], axis=1)\n"
   ]
  },
  {
   "cell_type": "code",
   "execution_count": 49,
   "id": "fa0156f3",
   "metadata": {},
   "outputs": [],
   "source": [
    "# # Initialize the linear regression model\n",
    "# model = LinearRegression()"
   ]
  },
  {
   "cell_type": "code",
   "execution_count": 50,
   "id": "8568fa4b",
   "metadata": {},
   "outputs": [],
   "source": [
    "# # Convert feature names to strings\n",
    "# X_train.columns = X_train.columns.astype(str)\n",
    "# X_test.columns = X_test.columns.astype(str)\n",
    "\n",
    "# Initialize the linear regression model\n",
    "# model = LinearRegression()\n",
    "\n",
    "# # Fit the model to the training data\n",
    "# model.fit(X_train, y_train)\n",
    "\n",
    "# # Predict on the testing data\n",
    "# y_pred = model.predict(X_test)\n",
    "\n",
    "# # Model Evaluation\n",
    "# mse = mean_squared_error(y_test, y_pred)\n",
    "# rmse = np.sqrt(mse)\n",
    "# r2 = r2_score(y_test, y_pred)\n",
    "\n",
    "# print(\"Mean Squared Error:\", mse)\n",
    "# print(\"Root Mean Squared Error:\", rmse)\n",
    "# print(\"R-squared Score:\", r2)\n",
    "\n",
    "# Mean Squared Error: 0.4697165874831321\n",
    "# Root Mean Squared Error: 0.6853587290486144\n",
    "# R-squared Score: -1.1449373180752462"
   ]
  },
  {
   "cell_type": "markdown",
   "id": "261c878c",
   "metadata": {},
   "source": [
    "# MODEL TRAINING"
   ]
  },
  {
   "cell_type": "code",
   "execution_count": 51,
   "id": "2658d0d5",
   "metadata": {},
   "outputs": [],
   "source": [
    "from sklearn.linear_model import LogisticRegression\n",
    "from sklearn.metrics import accuracy_score, classification_report, confusion_matrix"
   ]
  },
  {
   "cell_type": "code",
   "execution_count": 52,
   "id": "d014680c",
   "metadata": {},
   "outputs": [
    {
     "name": "stdout",
     "output_type": "stream",
     "text": [
      "<class 'pandas.core.frame.DataFrame'>\n",
      "RangeIndex: 1597 entries, 0 to 1596\n",
      "Data columns (total 15 columns):\n",
      " #   Column            Non-Null Count  Dtype  \n",
      "---  ------            --------------  -----  \n",
      " 0   id                1597 non-null   float64\n",
      " 1   asins             1597 non-null   float64\n",
      " 2   brand             1597 non-null   object \n",
      " 3   categories        1597 non-null   object \n",
      " 4   dateAdded         1597 non-null   object \n",
      " 5   dateUpdated       1597 non-null   object \n",
      " 6   keys              1597 non-null   object \n",
      " 7   name              1597 non-null   object \n",
      " 8   prices            1597 non-null   object \n",
      " 9   reviews.date      1217 non-null   object \n",
      " 10  reviews.rating    1597 non-null   float64\n",
      " 11  reviews.text      1597 non-null   object \n",
      " 12  reviews.title     1580 non-null   object \n",
      " 13  reviews.username  1580 non-null   object \n",
      " 14  sentiment_score   1597 non-null   float64\n",
      "dtypes: float64(4), object(11)\n",
      "memory usage: 187.3+ KB\n"
     ]
    }
   ],
   "source": [
    "df.info()"
   ]
  },
  {
   "cell_type": "code",
   "execution_count": 53,
   "id": "f3db60cb",
   "metadata": {},
   "outputs": [],
   "source": [
    "# Drop irrelevant columnsdf.drop(columns=['dateAdded', 'dateUpdated', 'keys', 'prices', 'reviews.date', 'reviews.title', 'reviews.username', 'sentiment_score'], inplace=True)\n"
   ]
  },
  {
   "cell_type": "code",
   "execution_count": 54,
   "id": "15e643a9",
   "metadata": {},
   "outputs": [
    {
     "name": "stdout",
     "output_type": "stream",
     "text": [
      "<class 'pandas.core.frame.DataFrame'>\n",
      "RangeIndex: 1597 entries, 0 to 1596\n",
      "Data columns (total 15 columns):\n",
      " #   Column            Non-Null Count  Dtype  \n",
      "---  ------            --------------  -----  \n",
      " 0   id                1597 non-null   float64\n",
      " 1   asins             1597 non-null   float64\n",
      " 2   brand             1597 non-null   object \n",
      " 3   categories        1597 non-null   object \n",
      " 4   dateAdded         1597 non-null   object \n",
      " 5   dateUpdated       1597 non-null   object \n",
      " 6   keys              1597 non-null   object \n",
      " 7   name              1597 non-null   object \n",
      " 8   prices            1597 non-null   object \n",
      " 9   reviews.date      1217 non-null   object \n",
      " 10  reviews.rating    1597 non-null   float64\n",
      " 11  reviews.text      1597 non-null   object \n",
      " 12  reviews.title     1580 non-null   object \n",
      " 13  reviews.username  1580 non-null   object \n",
      " 14  sentiment_score   1597 non-null   float64\n",
      "dtypes: float64(4), object(11)\n",
      "memory usage: 187.3+ KB\n"
     ]
    }
   ],
   "source": [
    "df.info()"
   ]
  },
  {
   "cell_type": "code",
   "execution_count": 55,
   "id": "b828b00e",
   "metadata": {},
   "outputs": [],
   "source": [
    "from sklearn.model_selection import train_test_split\n",
    "from sklearn.linear_model import LogisticRegression\n",
    "from sklearn.metrics import accuracy_score"
   ]
  },
  {
   "cell_type": "code",
   "execution_count": 56,
   "id": "fa918b4f",
   "metadata": {},
   "outputs": [],
   "source": [
    "# Step 1: Spliting the data into features (X) and target variable (y)\n",
    "X = preprocessed_df[['reviews.rating']]\n",
    "y = preprocessed_df['sentiment_score']  # Assuming sentiment_score is your target variable\n"
   ]
  },
  {
   "cell_type": "code",
   "execution_count": 57,
   "id": "43a221c0",
   "metadata": {},
   "outputs": [
    {
     "name": "stdout",
     "output_type": "stream",
     "text": [
      "<class 'pandas.core.frame.DataFrame'>\n",
      "RangeIndex: 1597 entries, 0 to 1596\n",
      "Data columns (total 16 columns):\n",
      " #   Column             Non-Null Count  Dtype  \n",
      "---  ------             --------------  -----  \n",
      " 0   id                 1597 non-null   float64\n",
      " 1   asins              1597 non-null   float64\n",
      " 2   brand              1597 non-null   object \n",
      " 3   categories         1597 non-null   object \n",
      " 4   dateAdded          1597 non-null   object \n",
      " 5   dateUpdated        1597 non-null   object \n",
      " 6   keys               1597 non-null   object \n",
      " 7   name               1597 non-null   object \n",
      " 8   prices             1597 non-null   object \n",
      " 9   reviews.date       1217 non-null   object \n",
      " 10  reviews.rating     1597 non-null   float64\n",
      " 11  reviews.text       1597 non-null   object \n",
      " 12  reviews.title      1580 non-null   object \n",
      " 13  reviews.username   1580 non-null   object \n",
      " 14  preprocessed_text  1597 non-null   object \n",
      " 15  sentiment_score    1597 non-null   float64\n",
      "dtypes: float64(4), object(12)\n",
      "memory usage: 199.8+ KB\n"
     ]
    }
   ],
   "source": [
    "preprocessed_df.info()"
   ]
  },
  {
   "cell_type": "code",
   "execution_count": 58,
   "id": "7491983b",
   "metadata": {},
   "outputs": [],
   "source": [
    "# Step 2: Spliting the data into training and testing sets\n",
    "X_train, X_test, y_train, y_test = train_test_split(X, y, test_size=0.2, random_state=42)\n"
   ]
  },
  {
   "cell_type": "code",
   "execution_count": 59,
   "id": "ff05d041",
   "metadata": {},
   "outputs": [],
   "source": [
    "# Step 3: Initializing and fit the logistic regression model\n",
    "logistic_model = LogisticRegression()\n",
    "# Defining thresholds for categorization\n",
    "threshold_good = 3.5\n",
    "threshold_bad = 2.0\n",
    "\n",
    "# Defining a function to categorize ratings\n",
    "def categorize_rating(rating):\n",
    "    if rating >= threshold_good:\n",
    "        return \"Good\"\n",
    "    elif rating <= threshold_bad:\n",
    "        return \"Bad\"\n",
    "    else:\n",
    "        return \"Average\"\n",
    "\n"
   ]
  },
  {
   "cell_type": "code",
   "execution_count": 60,
   "id": "7cfd21b0",
   "metadata": {},
   "outputs": [],
   "source": [
    "# Applying the categorization function to the ratings column\n",
    "preprocessed_df['rating_category'] = preprocessed_df['reviews.rating'].apply(categorize_rating)\n",
    "\n",
    "# Now, X should contain features and y should contain the target variable 'rating_category'\n",
    "X = preprocessed_df.drop(columns=['id', 'asins', 'reviews.rating', 'rating_category'])\n",
    "y = preprocessed_df['rating_category']\n"
   ]
  },
  {
   "cell_type": "code",
   "execution_count": 61,
   "id": "7c81a420",
   "metadata": {},
   "outputs": [],
   "source": [
    "from sklearn.model_selection import train_test_split\n",
    "\n",
    "X_train, X_test, y_train, y_test = train_test_split(X, y, test_size=0.2, random_state=42)\n"
   ]
  },
  {
   "cell_type": "code",
   "execution_count": 62,
   "id": "b924ff3b",
   "metadata": {},
   "outputs": [],
   "source": [
    "from sklearn.linear_model import LogisticRegression\n",
    "\n",
    "logistic_model = LogisticRegression()"
   ]
  },
  {
   "cell_type": "code",
   "execution_count": 63,
   "id": "9783d1e4",
   "metadata": {},
   "outputs": [],
   "source": [
    "\n",
    "preprocessed_df['dateUpdated'] = pd.to_datetime(preprocessed_df['dateUpdated'])\n",
    "preprocessed_df['reviews.date'] = pd.to_datetime(preprocessed_df['reviews.date'], format='mixed')\n",
    "\n",
    "\n"
   ]
  },
  {
   "cell_type": "code",
   "execution_count": 64,
   "id": "a6f3af1e",
   "metadata": {},
   "outputs": [
    {
     "name": "stdout",
     "output_type": "stream",
     "text": [
      "<class 'pandas.core.frame.DataFrame'>\n",
      "RangeIndex: 1597 entries, 0 to 1596\n",
      "Data columns (total 17 columns):\n",
      " #   Column             Non-Null Count  Dtype              \n",
      "---  ------             --------------  -----              \n",
      " 0   id                 1597 non-null   float64            \n",
      " 1   asins              1597 non-null   float64            \n",
      " 2   brand              1597 non-null   object             \n",
      " 3   categories         1597 non-null   object             \n",
      " 4   dateAdded          1597 non-null   object             \n",
      " 5   dateUpdated        1597 non-null   datetime64[ns, UTC]\n",
      " 6   keys               1597 non-null   object             \n",
      " 7   name               1597 non-null   object             \n",
      " 8   prices             1597 non-null   object             \n",
      " 9   reviews.date       1217 non-null   datetime64[ns, UTC]\n",
      " 10  reviews.rating     1597 non-null   float64            \n",
      " 11  reviews.text       1597 non-null   object             \n",
      " 12  reviews.title      1580 non-null   object             \n",
      " 13  reviews.username   1580 non-null   object             \n",
      " 14  preprocessed_text  1597 non-null   object             \n",
      " 15  sentiment_score    1597 non-null   float64            \n",
      " 16  rating_category    1597 non-null   object             \n",
      "dtypes: datetime64[ns, UTC](2), float64(4), object(11)\n",
      "memory usage: 212.2+ KB\n"
     ]
    }
   ],
   "source": [
    "preprocessed_df.info()"
   ]
  },
  {
   "cell_type": "code",
   "execution_count": 65,
   "id": "e5c7ff9a",
   "metadata": {},
   "outputs": [
    {
     "name": "stdout",
     "output_type": "stream",
     "text": [
      "0          Good\n",
      "1          Good\n",
      "2          Good\n",
      "3          Good\n",
      "4          Good\n",
      "         ...   \n",
      "1592    Average\n",
      "1593        Bad\n",
      "1594        Bad\n",
      "1595    Average\n",
      "1596        Bad\n",
      "Name: rating_category, Length: 1597, dtype: object\n"
     ]
    }
   ],
   "source": [
    "print(preprocessed_df['rating_category'])\n"
   ]
  },
  {
   "cell_type": "code",
   "execution_count": 66,
   "id": "b6b34f16",
   "metadata": {},
   "outputs": [],
   "source": [
    "# Converting categories to numerical values\n",
    "preprocessed_df['rating_category_encoded'], _ = pd.factorize(preprocessed_df['rating_category'])\n",
    "\n",
    "# Converting the encoded values to float\n",
    "preprocessed_df['rating_category_encoded'] = preprocessed_df['rating_category_encoded'].astype(float)\n",
    "\n",
    "# Now we have the 'rating_category_encoded' column as float\n"
   ]
  },
  {
   "cell_type": "code",
   "execution_count": 67,
   "id": "c38ea674",
   "metadata": {},
   "outputs": [
    {
     "name": "stdout",
     "output_type": "stream",
     "text": [
      "<class 'pandas.core.frame.DataFrame'>\n",
      "RangeIndex: 1597 entries, 0 to 1596\n",
      "Data columns (total 18 columns):\n",
      " #   Column                   Non-Null Count  Dtype              \n",
      "---  ------                   --------------  -----              \n",
      " 0   id                       1597 non-null   float64            \n",
      " 1   asins                    1597 non-null   float64            \n",
      " 2   brand                    1597 non-null   object             \n",
      " 3   categories               1597 non-null   object             \n",
      " 4   dateAdded                1597 non-null   object             \n",
      " 5   dateUpdated              1597 non-null   datetime64[ns, UTC]\n",
      " 6   keys                     1597 non-null   object             \n",
      " 7   name                     1597 non-null   object             \n",
      " 8   prices                   1597 non-null   object             \n",
      " 9   reviews.date             1217 non-null   datetime64[ns, UTC]\n",
      " 10  reviews.rating           1597 non-null   float64            \n",
      " 11  reviews.text             1597 non-null   object             \n",
      " 12  reviews.title            1580 non-null   object             \n",
      " 13  reviews.username         1580 non-null   object             \n",
      " 14  preprocessed_text        1597 non-null   object             \n",
      " 15  sentiment_score          1597 non-null   float64            \n",
      " 16  rating_category          1597 non-null   object             \n",
      " 17  rating_category_encoded  1597 non-null   float64            \n",
      "dtypes: datetime64[ns, UTC](2), float64(5), object(11)\n",
      "memory usage: 224.7+ KB\n"
     ]
    }
   ],
   "source": [
    "preprocessed_df.info()"
   ]
  },
  {
   "cell_type": "code",
   "execution_count": 68,
   "id": "910392c2",
   "metadata": {},
   "outputs": [],
   "source": [
    "# Geting columns with object data type except for text columns\n",
    "object_columns = [col for col in preprocessed_df.select_dtypes(include=['object']).columns if col not in ['reviews.text', 'preprocessed_text']]\n",
    "\n",
    "# Droping the object columns except for text columns\n",
    "preprocessed_df.drop(columns=object_columns, inplace=True)\n"
   ]
  },
  {
   "cell_type": "code",
   "execution_count": 69,
   "id": "bdda1f36",
   "metadata": {
    "scrolled": true
   },
   "outputs": [
    {
     "name": "stdout",
     "output_type": "stream",
     "text": [
      "<class 'pandas.core.frame.DataFrame'>\n",
      "RangeIndex: 1597 entries, 0 to 1596\n",
      "Data columns (total 9 columns):\n",
      " #   Column                   Non-Null Count  Dtype              \n",
      "---  ------                   --------------  -----              \n",
      " 0   id                       1597 non-null   float64            \n",
      " 1   asins                    1597 non-null   float64            \n",
      " 2   dateUpdated              1597 non-null   datetime64[ns, UTC]\n",
      " 3   reviews.date             1217 non-null   datetime64[ns, UTC]\n",
      " 4   reviews.rating           1597 non-null   float64            \n",
      " 5   reviews.text             1597 non-null   object             \n",
      " 6   preprocessed_text        1597 non-null   object             \n",
      " 7   sentiment_score          1597 non-null   float64            \n",
      " 8   rating_category_encoded  1597 non-null   float64            \n",
      "dtypes: datetime64[ns, UTC](2), float64(5), object(2)\n",
      "memory usage: 112.4+ KB\n"
     ]
    }
   ],
   "source": [
    "preprocessed_df.info()"
   ]
  },
  {
   "cell_type": "code",
   "execution_count": 70,
   "id": "d4450a82",
   "metadata": {},
   "outputs": [
    {
     "data": {
      "text/html": [
       "<div>\n",
       "<style scoped>\n",
       "    .dataframe tbody tr th:only-of-type {\n",
       "        vertical-align: middle;\n",
       "    }\n",
       "\n",
       "    .dataframe tbody tr th {\n",
       "        vertical-align: top;\n",
       "    }\n",
       "\n",
       "    .dataframe thead th {\n",
       "        text-align: right;\n",
       "    }\n",
       "</style>\n",
       "<table border=\"1\" class=\"dataframe\">\n",
       "  <thead>\n",
       "    <tr style=\"text-align: right;\">\n",
       "      <th></th>\n",
       "      <th>id</th>\n",
       "      <th>asins</th>\n",
       "      <th>dateUpdated</th>\n",
       "      <th>reviews.date</th>\n",
       "      <th>reviews.rating</th>\n",
       "      <th>reviews.text</th>\n",
       "      <th>preprocessed_text</th>\n",
       "      <th>sentiment_score</th>\n",
       "      <th>rating_category_encoded</th>\n",
       "    </tr>\n",
       "  </thead>\n",
       "  <tbody>\n",
       "    <tr>\n",
       "      <th>0</th>\n",
       "      <td>33.0</td>\n",
       "      <td>21.0</td>\n",
       "      <td>2017-07-18 23:52:58+00:00</td>\n",
       "      <td>2015-08-08 00:00:00+00:00</td>\n",
       "      <td>5.0</td>\n",
       "      <td>I initially had trouble deciding between the p...</td>\n",
       "      <td>initi troubl decid paperwhit voyag review less...</td>\n",
       "      <td>0.9804</td>\n",
       "      <td>0.0</td>\n",
       "    </tr>\n",
       "    <tr>\n",
       "      <th>1</th>\n",
       "      <td>33.0</td>\n",
       "      <td>21.0</td>\n",
       "      <td>2017-07-18 23:52:58+00:00</td>\n",
       "      <td>2015-09-01 00:00:00+00:00</td>\n",
       "      <td>5.0</td>\n",
       "      <td>Allow me to preface this with a little history...</td>\n",
       "      <td>allow prefac littl histori casual reader own n...</td>\n",
       "      <td>0.9874</td>\n",
       "      <td>0.0</td>\n",
       "    </tr>\n",
       "    <tr>\n",
       "      <th>2</th>\n",
       "      <td>33.0</td>\n",
       "      <td>21.0</td>\n",
       "      <td>2017-07-18 23:52:58+00:00</td>\n",
       "      <td>2015-07-20 00:00:00+00:00</td>\n",
       "      <td>4.0</td>\n",
       "      <td>I am enjoying it so far. Great for reading. Ha...</td>\n",
       "      <td>enjoy far great read origin fire sinc 2012 fir...</td>\n",
       "      <td>0.4364</td>\n",
       "      <td>0.0</td>\n",
       "    </tr>\n",
       "    <tr>\n",
       "      <th>3</th>\n",
       "      <td>33.0</td>\n",
       "      <td>21.0</td>\n",
       "      <td>2017-07-18 23:52:58+00:00</td>\n",
       "      <td>2017-06-16 00:00:00+00:00</td>\n",
       "      <td>5.0</td>\n",
       "      <td>I bought one of the first Paperwhites and have...</td>\n",
       "      <td>bought one first paperwhit pleas constant comp...</td>\n",
       "      <td>0.9743</td>\n",
       "      <td>0.0</td>\n",
       "    </tr>\n",
       "    <tr>\n",
       "      <th>4</th>\n",
       "      <td>33.0</td>\n",
       "      <td>21.0</td>\n",
       "      <td>2017-07-18 23:52:58+00:00</td>\n",
       "      <td>2016-08-11 00:00:00+00:00</td>\n",
       "      <td>5.0</td>\n",
       "      <td>I have to say upfront - I don't like coroporat...</td>\n",
       "      <td>say upfront n't like coropor hermet close stuf...</td>\n",
       "      <td>0.9930</td>\n",
       "      <td>0.0</td>\n",
       "    </tr>\n",
       "  </tbody>\n",
       "</table>\n",
       "</div>"
      ],
      "text/plain": [
       "     id  asins               dateUpdated              reviews.date  \\\n",
       "0  33.0   21.0 2017-07-18 23:52:58+00:00 2015-08-08 00:00:00+00:00   \n",
       "1  33.0   21.0 2017-07-18 23:52:58+00:00 2015-09-01 00:00:00+00:00   \n",
       "2  33.0   21.0 2017-07-18 23:52:58+00:00 2015-07-20 00:00:00+00:00   \n",
       "3  33.0   21.0 2017-07-18 23:52:58+00:00 2017-06-16 00:00:00+00:00   \n",
       "4  33.0   21.0 2017-07-18 23:52:58+00:00 2016-08-11 00:00:00+00:00   \n",
       "\n",
       "   reviews.rating                                       reviews.text  \\\n",
       "0             5.0  I initially had trouble deciding between the p...   \n",
       "1             5.0  Allow me to preface this with a little history...   \n",
       "2             4.0  I am enjoying it so far. Great for reading. Ha...   \n",
       "3             5.0  I bought one of the first Paperwhites and have...   \n",
       "4             5.0  I have to say upfront - I don't like coroporat...   \n",
       "\n",
       "                                   preprocessed_text  sentiment_score  \\\n",
       "0  initi troubl decid paperwhit voyag review less...           0.9804   \n",
       "1  allow prefac littl histori casual reader own n...           0.9874   \n",
       "2  enjoy far great read origin fire sinc 2012 fir...           0.4364   \n",
       "3  bought one first paperwhit pleas constant comp...           0.9743   \n",
       "4  say upfront n't like coropor hermet close stuf...           0.9930   \n",
       "\n",
       "   rating_category_encoded  \n",
       "0                      0.0  \n",
       "1                      0.0  \n",
       "2                      0.0  \n",
       "3                      0.0  \n",
       "4                      0.0  "
      ]
     },
     "execution_count": 70,
     "metadata": {},
     "output_type": "execute_result"
    }
   ],
   "source": [
    "preprocessed_df.head()"
   ]
  },
  {
   "cell_type": "code",
   "execution_count": 71,
   "id": "5575958f",
   "metadata": {},
   "outputs": [
    {
     "name": "stdout",
     "output_type": "stream",
     "text": [
      "        id  sentiment_score sentiment_category\n",
      "0     33.0           0.9804          Very Good\n",
      "1     33.0           0.9874          Very Good\n",
      "2     33.0           0.4364                Bad\n",
      "3     33.0           0.9743          Very Good\n",
      "4     33.0           0.9930          Very Good\n",
      "...    ...              ...                ...\n",
      "1592  42.0          -0.7405                Bad\n",
      "1593  42.0          -0.9205                Bad\n",
      "1594  42.0          -0.8126                Bad\n",
      "1595  42.0           0.8271               Good\n",
      "1596  42.0          -0.8630                Bad\n",
      "\n",
      "[1597 rows x 3 columns]\n"
     ]
    }
   ],
   "source": [
    "# Defining thresholds for categorization\n",
    "threshold_good = 0.7\n",
    "threshold_very_good = 0.9\n",
    "\n",
    "# Defining a function to categorize sentiment scores\n",
    "def categorize_sentiment(sentiment_score):\n",
    "    if sentiment_score >= threshold_very_good:\n",
    "        return \"Very Good\"\n",
    "    elif sentiment_score >= threshold_good:\n",
    "        return \"Good\"\n",
    "    else:\n",
    "        return \"Bad\"\n",
    "\n",
    "# Applying the categorization function to the sentiment scores\n",
    "df['sentiment_category'] = df['sentiment_score'].apply(categorize_sentiment)\n",
    "\n",
    "# Displaying the DataFrame with the sentiment categories\n",
    "print(df[['id', 'sentiment_score', 'sentiment_category']])\n"
   ]
  },
  {
   "cell_type": "code",
   "execution_count": 72,
   "id": "d12872c9",
   "metadata": {},
   "outputs": [
    {
     "name": "stdout",
     "output_type": "stream",
     "text": [
      "              precision    recall  f1-score   support\n",
      "\n",
      "         Bad       1.00      0.95      0.98        86\n",
      "        Good       0.90      0.50      0.64        74\n",
      "   Very Good       0.81      1.00      0.90       160\n",
      "\n",
      "    accuracy                           0.87       320\n",
      "   macro avg       0.90      0.82      0.84       320\n",
      "weighted avg       0.88      0.87      0.86       320\n",
      "\n"
     ]
    }
   ],
   "source": [
    "from sklearn.model_selection import train_test_split\n",
    "from sklearn.linear_model import LogisticRegression\n",
    "from sklearn.metrics import classification_report\n",
    "\n",
    "# 1. Preparing the Data\n",
    "X = df[['id', 'sentiment_score']]  # Features\n",
    "y = df['sentiment_category']  # Target variable\n",
    "\n",
    "# 2. Spliting Data\n",
    "X_train, X_test, y_train, y_test = train_test_split(X, y, test_size=0.2, random_state=42)\n",
    "\n",
    "# 3. Training the Model\n",
    "logistic_model = LogisticRegression()\n",
    "logistic_model.fit(X_train, y_train)\n",
    "\n",
    "# 4. Evaluating the Model\n",
    "y_pred = logistic_model.predict(X_test)\n",
    "print(classification_report(y_test, y_pred))\n",
    "\n"
   ]
  },
  {
   "cell_type": "markdown",
   "id": "9a1aecc8",
   "metadata": {},
   "source": [
    "# MODEL TESTING"
   ]
  },
  {
   "cell_type": "code",
   "execution_count": 73,
   "id": "3412c7e3",
   "metadata": {},
   "outputs": [],
   "source": [
    "import pandas as pd\n",
    "\n",
    "# # Creating a dictionary with sample data\n",
    "# data = {\n",
    "#     'id': [1, 2, 3, 4, 5],\n",
    "#     'sentiment_score': [0.8, 0.6, 0.9, 0.3, 0.7]\n",
    "# }\n",
    "\n",
    "# # Creating a DataFrame\n",
    "# new_data = pd.DataFrame(data)\n",
    "\n",
    "# # Display the DataFrame\n",
    "# print(new_data)\n",
    "\n"
   ]
  },
  {
   "cell_type": "code",
   "execution_count": 74,
   "id": "9fa747e2",
   "metadata": {},
   "outputs": [
    {
     "name": "stdout",
     "output_type": "stream",
     "text": [
      "    Predicted_Category\n",
      "0            Very Good\n",
      "1            Very Good\n",
      "2                 Good\n",
      "3            Very Good\n",
      "4                 Good\n",
      "..                 ...\n",
      "315                Bad\n",
      "316               Good\n",
      "317          Very Good\n",
      "318               Good\n",
      "319          Very Good\n",
      "\n",
      "[320 rows x 1 columns]\n"
     ]
    }
   ],
   "source": [
    "\n",
    "new_x = X_test[['id', 'sentiment_score']]\n",
    "predicted_categories = logistic_model.predict(new_x)\n",
    "\n",
    "# Converting the predicted categories to a DataFrame for analysis\n",
    "predictions_df = pd.DataFrame({'Predicted_Category': predicted_categories})\n",
    "\n",
    "\n",
    "print(predictions_df)\n"
   ]
  },
  {
   "cell_type": "code",
   "execution_count": 75,
   "id": "24e28d73",
   "metadata": {},
   "outputs": [
    {
     "name": "stdout",
     "output_type": "stream",
     "text": [
      "Accuracy: 0.871875\n",
      "Accuracy: 0.871875\n",
      "Confusion Matrix:\n",
      " [[ 82   4   0]\n",
      " [  0  37  37]\n",
      " [  0   0 160]]\n",
      "Classification Report:\n",
      "               precision    recall  f1-score   support\n",
      "\n",
      "         Bad       1.00      0.95      0.98        86\n",
      "        Good       0.90      0.50      0.64        74\n",
      "   Very Good       0.81      1.00      0.90       160\n",
      "\n",
      "    accuracy                           0.87       320\n",
      "   macro avg       0.90      0.82      0.84       320\n",
      "weighted avg       0.88      0.87      0.86       320\n",
      "\n"
     ]
    }
   ],
   "source": [
    "from sklearn.metrics import accuracy_score\n",
    "\n",
    "# Assuming you have the actual categories for your test dataset stored in y_test\n",
    "actual_categories = y_test\n",
    "\n",
    "# Computing accuracy\n",
    "accuracy = accuracy_score(actual_categories, predicted_categories)\n",
    "print(\"Accuracy:\", accuracy)\n",
    "\n",
    "# Computing accuracy\n",
    "accuracy = accuracy_score(actual_categories, predicted_categories)\n",
    "print(\"Accuracy:\", accuracy)\n",
    "\n",
    "# Computing confusion matrix\n",
    "conf_matrix = confusion_matrix(actual_categories, predicted_categories)\n",
    "print(\"Confusion Matrix:\\n\", conf_matrix)\n",
    "\n",
    "# Computing classification report\n",
    "classification_rep = classification_report(actual_categories, predicted_categories)\n",
    "print(\"Classification Report:\\n\", classification_rep)"
   ]
  },
  {
   "cell_type": "code",
   "execution_count": 76,
   "id": "ce7d2061",
   "metadata": {},
   "outputs": [
    {
     "name": "stdout",
     "output_type": "stream",
     "text": [
      "Length of actual categories: 320\n",
      "Length of predicted categories: 320\n"
     ]
    }
   ],
   "source": [
    "print(\"Length of actual categories:\", len(actual_categories))\n",
    "print(\"Length of predicted categories:\", len(predicted_categories))\n"
   ]
  },
  {
   "cell_type": "markdown",
   "id": "df18b0e0",
   "metadata": {},
   "source": [
    "# APPLY NECESSARY ACTIONS"
   ]
  },
  {
   "cell_type": "code",
   "execution_count": 77,
   "id": "0ef90a07",
   "metadata": {},
   "outputs": [
    {
     "name": "stdout",
     "output_type": "stream",
     "text": [
      "        id sentiment_category                                          action\n",
      "0     33.0          Very Good                  Exchange with original product\n",
      "1     33.0          Very Good                  Exchange with original product\n",
      "2     33.0                Bad                               Return money back\n",
      "3     33.0          Very Good                  Exchange with original product\n",
      "4     33.0          Very Good                  Exchange with original product\n",
      "...    ...                ...                                             ...\n",
      "1592  42.0                Bad                               Return money back\n",
      "1593  42.0                Bad                               Return money back\n",
      "1594  42.0                Bad                               Return money back\n",
      "1595  42.0               Good  Exchange with either different or same product\n",
      "1596  42.0                Bad                               Return money back\n",
      "\n",
      "[1597 rows x 3 columns]\n"
     ]
    }
   ],
   "source": [
    "def exchange_or_return(sentiment_category):\n",
    "    if sentiment_category == \"Very Good\":\n",
    "        return \"Exchange with original product\"\n",
    "    elif sentiment_category == \"Good\":\n",
    "        return \"Exchange with either different or same product\"\n",
    "    else:\n",
    "        return \"Return money back\"\n",
    "\n",
    "# Apply the exchange or return function to the sentiment categories\n",
    "df['action'] = df['sentiment_category'].apply(exchange_or_return)\n",
    "\n",
    "# Display the DataFrame with the actions\n",
    "print(df[['id', 'sentiment_category', 'action']])"
   ]
  },
  {
   "cell_type": "code",
   "execution_count": 78,
   "id": "29f0c21e",
   "metadata": {},
   "outputs": [
    {
     "name": "stdout",
     "output_type": "stream",
     "text": [
      "     id sentiment_category                          action\n",
      "0  33.0          Very Good  Exchange with original product\n",
      "1  33.0          Very Good  Exchange with original product\n",
      "2  33.0                Bad               Return money back\n",
      "3  33.0          Very Good  Exchange with original product\n",
      "4  33.0          Very Good  Exchange with original product\n",
      "\n",
      "Distribution of Actions:\n",
      "action\n",
      "Exchange with original product                    816\n",
      "Return money back                                 431\n",
      "Exchange with either different or same product    350\n",
      "Name: count, dtype: int64\n"
     ]
    }
   ],
   "source": [
    "# Step 1: Reviewing and validate the actions\n",
    "print(df[['id', 'sentiment_category', 'action']].head())\n",
    "\n",
    "# Step 2: Analyzing distribution of actions\n",
    "action_distribution = df['action'].value_counts()\n",
    "print(\"\\nDistribution of Actions:\")\n",
    "print(action_distribution)\n",
    "\n",
    "# Step 3: Take business actions\n",
    "# Example: Initiating exchanges for products with positive sentiment\n",
    "positive_sentiment_actions = df[df['sentiment_category'].isin(['Good', 'Very Good'])]['action']\n",
    "# Example: Processing refunds for products with negative sentiment\n",
    "negative_sentiment_actions = df[df['sentiment_category'] == 'Bad']['action']\n"
   ]
  },
  {
   "cell_type": "code",
   "execution_count": 79,
   "id": "eacffa97",
   "metadata": {},
   "outputs": [
    {
     "ename": "NameError",
     "evalue": "name 'sys' is not defined",
     "output_type": "error",
     "traceback": [
      "\u001b[1;31m---------------------------------------------------------------------------\u001b[0m",
      "\u001b[1;31mNameError\u001b[0m                                 Traceback (most recent call last)",
      "Cell \u001b[1;32mIn[79], line 22\u001b[0m\n\u001b[0;32m     18\u001b[0m     \u001b[38;5;28;01mreturn\u001b[39;00m np\u001b[38;5;241m.\u001b[39marray([[feature1, feature2]])  \u001b[38;5;66;03m# Modify according to your feature format\u001b[39;00m\n\u001b[0;32m     20\u001b[0m \u001b[38;5;28;01mif\u001b[39;00m \u001b[38;5;18m__name__\u001b[39m \u001b[38;5;241m==\u001b[39m \u001b[38;5;124m\"\u001b[39m\u001b[38;5;124m__main__\u001b[39m\u001b[38;5;124m\"\u001b[39m:\n\u001b[0;32m     21\u001b[0m     \u001b[38;5;66;03m# Read data from stdin (standard input)\u001b[39;00m\n\u001b[1;32m---> 22\u001b[0m     data \u001b[38;5;241m=\u001b[39m sys\u001b[38;5;241m.\u001b[39mstdin\u001b[38;5;241m.\u001b[39mread()\n\u001b[0;32m     24\u001b[0m     \u001b[38;5;66;03m# Preprocess the data\u001b[39;00m\n\u001b[0;32m     25\u001b[0m     features \u001b[38;5;241m=\u001b[39m preprocess_data(data)\n",
      "\u001b[1;31mNameError\u001b[0m: name 'sys' is not defined"
     ]
    }
   ],
   "source": [
    "\n",
    "def preprocess_data(data):\n",
    "    # Parse JSON data received from Node.js\n",
    "    print(\"Received data:\", data)  # Log received data for debugging\n",
    "    try:\n",
    "        data = json.loads(data)\n",
    "        # Extract features from the JSON data and preprocess if necessary\n",
    "        feature1 = float(data.get('feature1', 0))\n",
    "        feature2 = float(data.get('feature2', 0))\n",
    "        # Add more features as needed\n",
    "    except json.JSONDecodeError as e:\n",
    "        print(\"Error decoding JSON:\", e)\n",
    "        return None\n",
    "\n",
    "    # Perform any additional preprocessing if required\n",
    "    # Example: feature scaling, encoding categorical variables, etc.\n",
    "\n",
    "    # Return preprocessed features as a NumPy array\n",
    "    return np.array([[feature1, feature2]])  # Modify according to your feature format\n",
    "\n",
    "if __name__ == \"__main__\":\n",
    "    # Read data from stdin (standard input)\n",
    "    data = sys.stdin.read()\n",
    "\n",
    "    # Preprocess the data\n",
    "    features = preprocess_data(data)\n",
    "\n",
    "    if features is not None:\n",
    "        # Perform prediction using the loaded logistic regression model\n",
    "        if model is not None:\n",
    "            prediction = model.predict(features)\n",
    "            # Convert prediction to the appropriate format for sending back to Node.js\n",
    "            prediction_json = json.dumps({\"prediction\": int(prediction[0])})  # Modify as needed\n",
    "            print(prediction_json)\n",
    "        else:\n",
    "            print(\"Error: Logistic regression model not loaded.\")\n",
    "    else:\n",
    "        print(\"Error: Data preprocessing failed.\")"
   ]
  },
  {
   "cell_type": "code",
   "execution_count": null,
   "id": "88a326fc",
   "metadata": {},
   "outputs": [],
   "source": []
  },
  {
   "cell_type": "code",
   "execution_count": null,
   "id": "3fe596fe",
   "metadata": {},
   "outputs": [],
   "source": []
  }
 ],
 "metadata": {
  "kernelspec": {
   "display_name": "Python 3 (ipykernel)",
   "language": "python",
   "name": "python3"
  },
  "language_info": {
   "codemirror_mode": {
    "name": "ipython",
    "version": 3
   },
   "file_extension": ".py",
   "mimetype": "text/x-python",
   "name": "python",
   "nbconvert_exporter": "python",
   "pygments_lexer": "ipython3",
   "version": "3.11.5"
  }
 },
 "nbformat": 4,
 "nbformat_minor": 5
}
